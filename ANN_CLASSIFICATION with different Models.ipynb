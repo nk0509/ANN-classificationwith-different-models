{
 "cells": [
  {
   "cell_type": "markdown",
   "metadata": {
    "id": "pQdq2JwbSxb-"
   },
   "source": [
    "<h3>ARTIFICIAL NEURAL NETWORKS\n"
   ]
  },
  {
   "cell_type": "markdown",
   "metadata": {
    "id": "8ofAMflSZMXk"
   },
   "source": [
    "\n",
    "Artificial Neural Networks (ANNs) are a fundamental concept in deep learning and form the basis for many advanced techniques, including deep learning. ANNs are computational models inspired by the structure and functioning of the human brain. They consist of interconnected nodes, or \"neurons,\" organized in layers, each layer having a specific role in the network's computation.\n",
    "\n",
    "In this project, the ANN serves as the core model used to perform classification. The ANN consists of multiple layers of interconnected nodes (neurons) that process input data, learn patterns, and make predictions. Each layer consists of neurons that apply activation functions to their inputs and pass the results to the next layer. The architecture of the ANN, including the number of layers, neurons per layer, and activation functions, defines its ability to capture complex relationships in the data.\n",
    "\n"
   ]
  },
  {
   "cell_type": "markdown",
   "metadata": {
    "id": "WMykcaO_9fJi"
   },
   "source": [
    "**Importing Libraries**"
   ]
  },
  {
   "cell_type": "code",
   "execution_count": null,
   "metadata": {
    "_cell_guid": "b1076dfc-b9ad-4769-8c92-a6c4dae69d19",
    "_uuid": "8f2839f25d086af736a60e9eeb907d3b93b6e0e5",
    "id": "LM_eSI40DPhO"
   },
   "outputs": [],
   "source": [
    "import numpy as np\n",
    "import pandas as pd\n",
    "import os"
   ]
  },
  {
   "cell_type": "markdown",
   "metadata": {
    "id": "N7zIWu_B9teJ"
   },
   "source": [
    "**Using the pandas library to read a CSV file**"
   ]
  },
  {
   "cell_type": "code",
   "execution_count": null,
   "metadata": {
    "_cell_guid": "79c7e3d0-c299-4dcb-8224-4455121ee9b0",
    "_uuid": "d629ff2d2480ee46fbb7e2d37f6b5fab8052498a",
    "id": "vCXe76odDPhQ"
   },
   "outputs": [],
   "source": [
    "df = pd.read_csv('mps.csv')"
   ]
  },
  {
   "cell_type": "markdown",
   "metadata": {
    "id": "ETZR1_SM97PD"
   },
   "source": [
    "**Displaying the first 10 rows**"
   ]
  },
  {
   "cell_type": "code",
   "execution_count": null,
   "metadata": {
    "id": "UoOJ5qQsDPhQ",
    "outputId": "5a989900-abe7-4b74-dda0-03dea83a6ccd"
   },
   "outputs": [
    {
     "data": {
      "text/html": [
       "<div>\n",
       "<style scoped>\n",
       "    .dataframe tbody tr th:only-of-type {\n",
       "        vertical-align: middle;\n",
       "    }\n",
       "\n",
       "    .dataframe tbody tr th {\n",
       "        vertical-align: top;\n",
       "    }\n",
       "\n",
       "    .dataframe thead th {\n",
       "        text-align: right;\n",
       "    }\n",
       "</style>\n",
       "<table border=\"1\" class=\"dataframe\">\n",
       "  <thead>\n",
       "    <tr style=\"text-align: right;\">\n",
       "      <th></th>\n",
       "      <th>battery_power</th>\n",
       "      <th>blue</th>\n",
       "      <th>clock_speed</th>\n",
       "      <th>dual_sim</th>\n",
       "      <th>fc</th>\n",
       "      <th>four_g</th>\n",
       "      <th>int_memory</th>\n",
       "      <th>m_dep</th>\n",
       "      <th>mobile_wt</th>\n",
       "      <th>n_cores</th>\n",
       "      <th>...</th>\n",
       "      <th>px_height</th>\n",
       "      <th>px_width</th>\n",
       "      <th>ram</th>\n",
       "      <th>sc_h</th>\n",
       "      <th>sc_w</th>\n",
       "      <th>talk_time</th>\n",
       "      <th>three_g</th>\n",
       "      <th>touch_screen</th>\n",
       "      <th>wifi</th>\n",
       "      <th>price_range</th>\n",
       "    </tr>\n",
       "  </thead>\n",
       "  <tbody>\n",
       "    <tr>\n",
       "      <th>0</th>\n",
       "      <td>842</td>\n",
       "      <td>0</td>\n",
       "      <td>2.2</td>\n",
       "      <td>0</td>\n",
       "      <td>1</td>\n",
       "      <td>0</td>\n",
       "      <td>7</td>\n",
       "      <td>0.6</td>\n",
       "      <td>188</td>\n",
       "      <td>2</td>\n",
       "      <td>...</td>\n",
       "      <td>20</td>\n",
       "      <td>756</td>\n",
       "      <td>2549</td>\n",
       "      <td>9</td>\n",
       "      <td>7</td>\n",
       "      <td>19</td>\n",
       "      <td>0</td>\n",
       "      <td>0</td>\n",
       "      <td>1</td>\n",
       "      <td>1</td>\n",
       "    </tr>\n",
       "    <tr>\n",
       "      <th>1</th>\n",
       "      <td>1021</td>\n",
       "      <td>1</td>\n",
       "      <td>0.5</td>\n",
       "      <td>1</td>\n",
       "      <td>0</td>\n",
       "      <td>1</td>\n",
       "      <td>53</td>\n",
       "      <td>0.7</td>\n",
       "      <td>136</td>\n",
       "      <td>3</td>\n",
       "      <td>...</td>\n",
       "      <td>905</td>\n",
       "      <td>1988</td>\n",
       "      <td>2631</td>\n",
       "      <td>17</td>\n",
       "      <td>3</td>\n",
       "      <td>7</td>\n",
       "      <td>1</td>\n",
       "      <td>1</td>\n",
       "      <td>0</td>\n",
       "      <td>2</td>\n",
       "    </tr>\n",
       "    <tr>\n",
       "      <th>2</th>\n",
       "      <td>563</td>\n",
       "      <td>1</td>\n",
       "      <td>0.5</td>\n",
       "      <td>1</td>\n",
       "      <td>2</td>\n",
       "      <td>1</td>\n",
       "      <td>41</td>\n",
       "      <td>0.9</td>\n",
       "      <td>145</td>\n",
       "      <td>5</td>\n",
       "      <td>...</td>\n",
       "      <td>1263</td>\n",
       "      <td>1716</td>\n",
       "      <td>2603</td>\n",
       "      <td>11</td>\n",
       "      <td>2</td>\n",
       "      <td>9</td>\n",
       "      <td>1</td>\n",
       "      <td>1</td>\n",
       "      <td>0</td>\n",
       "      <td>2</td>\n",
       "    </tr>\n",
       "    <tr>\n",
       "      <th>3</th>\n",
       "      <td>615</td>\n",
       "      <td>1</td>\n",
       "      <td>2.5</td>\n",
       "      <td>0</td>\n",
       "      <td>0</td>\n",
       "      <td>0</td>\n",
       "      <td>10</td>\n",
       "      <td>0.8</td>\n",
       "      <td>131</td>\n",
       "      <td>6</td>\n",
       "      <td>...</td>\n",
       "      <td>1216</td>\n",
       "      <td>1786</td>\n",
       "      <td>2769</td>\n",
       "      <td>16</td>\n",
       "      <td>8</td>\n",
       "      <td>11</td>\n",
       "      <td>1</td>\n",
       "      <td>0</td>\n",
       "      <td>0</td>\n",
       "      <td>2</td>\n",
       "    </tr>\n",
       "    <tr>\n",
       "      <th>4</th>\n",
       "      <td>1821</td>\n",
       "      <td>1</td>\n",
       "      <td>1.2</td>\n",
       "      <td>0</td>\n",
       "      <td>13</td>\n",
       "      <td>1</td>\n",
       "      <td>44</td>\n",
       "      <td>0.6</td>\n",
       "      <td>141</td>\n",
       "      <td>2</td>\n",
       "      <td>...</td>\n",
       "      <td>1208</td>\n",
       "      <td>1212</td>\n",
       "      <td>1411</td>\n",
       "      <td>8</td>\n",
       "      <td>2</td>\n",
       "      <td>15</td>\n",
       "      <td>1</td>\n",
       "      <td>1</td>\n",
       "      <td>0</td>\n",
       "      <td>1</td>\n",
       "    </tr>\n",
       "    <tr>\n",
       "      <th>5</th>\n",
       "      <td>1859</td>\n",
       "      <td>0</td>\n",
       "      <td>0.5</td>\n",
       "      <td>1</td>\n",
       "      <td>3</td>\n",
       "      <td>0</td>\n",
       "      <td>22</td>\n",
       "      <td>0.7</td>\n",
       "      <td>164</td>\n",
       "      <td>1</td>\n",
       "      <td>...</td>\n",
       "      <td>1004</td>\n",
       "      <td>1654</td>\n",
       "      <td>1067</td>\n",
       "      <td>17</td>\n",
       "      <td>1</td>\n",
       "      <td>10</td>\n",
       "      <td>1</td>\n",
       "      <td>0</td>\n",
       "      <td>0</td>\n",
       "      <td>1</td>\n",
       "    </tr>\n",
       "    <tr>\n",
       "      <th>6</th>\n",
       "      <td>1821</td>\n",
       "      <td>0</td>\n",
       "      <td>1.7</td>\n",
       "      <td>0</td>\n",
       "      <td>4</td>\n",
       "      <td>1</td>\n",
       "      <td>10</td>\n",
       "      <td>0.8</td>\n",
       "      <td>139</td>\n",
       "      <td>8</td>\n",
       "      <td>...</td>\n",
       "      <td>381</td>\n",
       "      <td>1018</td>\n",
       "      <td>3220</td>\n",
       "      <td>13</td>\n",
       "      <td>8</td>\n",
       "      <td>18</td>\n",
       "      <td>1</td>\n",
       "      <td>0</td>\n",
       "      <td>1</td>\n",
       "      <td>3</td>\n",
       "    </tr>\n",
       "    <tr>\n",
       "      <th>7</th>\n",
       "      <td>1954</td>\n",
       "      <td>0</td>\n",
       "      <td>0.5</td>\n",
       "      <td>1</td>\n",
       "      <td>0</td>\n",
       "      <td>0</td>\n",
       "      <td>24</td>\n",
       "      <td>0.8</td>\n",
       "      <td>187</td>\n",
       "      <td>4</td>\n",
       "      <td>...</td>\n",
       "      <td>512</td>\n",
       "      <td>1149</td>\n",
       "      <td>700</td>\n",
       "      <td>16</td>\n",
       "      <td>3</td>\n",
       "      <td>5</td>\n",
       "      <td>1</td>\n",
       "      <td>1</td>\n",
       "      <td>1</td>\n",
       "      <td>0</td>\n",
       "    </tr>\n",
       "    <tr>\n",
       "      <th>8</th>\n",
       "      <td>1445</td>\n",
       "      <td>1</td>\n",
       "      <td>0.5</td>\n",
       "      <td>0</td>\n",
       "      <td>0</td>\n",
       "      <td>0</td>\n",
       "      <td>53</td>\n",
       "      <td>0.7</td>\n",
       "      <td>174</td>\n",
       "      <td>7</td>\n",
       "      <td>...</td>\n",
       "      <td>386</td>\n",
       "      <td>836</td>\n",
       "      <td>1099</td>\n",
       "      <td>17</td>\n",
       "      <td>1</td>\n",
       "      <td>20</td>\n",
       "      <td>1</td>\n",
       "      <td>0</td>\n",
       "      <td>0</td>\n",
       "      <td>0</td>\n",
       "    </tr>\n",
       "    <tr>\n",
       "      <th>9</th>\n",
       "      <td>509</td>\n",
       "      <td>1</td>\n",
       "      <td>0.6</td>\n",
       "      <td>1</td>\n",
       "      <td>2</td>\n",
       "      <td>1</td>\n",
       "      <td>9</td>\n",
       "      <td>0.1</td>\n",
       "      <td>93</td>\n",
       "      <td>5</td>\n",
       "      <td>...</td>\n",
       "      <td>1137</td>\n",
       "      <td>1224</td>\n",
       "      <td>513</td>\n",
       "      <td>19</td>\n",
       "      <td>10</td>\n",
       "      <td>12</td>\n",
       "      <td>1</td>\n",
       "      <td>0</td>\n",
       "      <td>0</td>\n",
       "      <td>0</td>\n",
       "    </tr>\n",
       "  </tbody>\n",
       "</table>\n",
       "<p>10 rows × 21 columns</p>\n",
       "</div>"
      ],
      "text/plain": [
       "   battery_power  blue  clock_speed  dual_sim  fc  four_g  int_memory  m_dep  \\\n",
       "0            842     0          2.2         0   1       0           7    0.6   \n",
       "1           1021     1          0.5         1   0       1          53    0.7   \n",
       "2            563     1          0.5         1   2       1          41    0.9   \n",
       "3            615     1          2.5         0   0       0          10    0.8   \n",
       "4           1821     1          1.2         0  13       1          44    0.6   \n",
       "5           1859     0          0.5         1   3       0          22    0.7   \n",
       "6           1821     0          1.7         0   4       1          10    0.8   \n",
       "7           1954     0          0.5         1   0       0          24    0.8   \n",
       "8           1445     1          0.5         0   0       0          53    0.7   \n",
       "9            509     1          0.6         1   2       1           9    0.1   \n",
       "\n",
       "   mobile_wt  n_cores  ...  px_height  px_width   ram  sc_h  sc_w  talk_time  \\\n",
       "0        188        2  ...         20       756  2549     9     7         19   \n",
       "1        136        3  ...        905      1988  2631    17     3          7   \n",
       "2        145        5  ...       1263      1716  2603    11     2          9   \n",
       "3        131        6  ...       1216      1786  2769    16     8         11   \n",
       "4        141        2  ...       1208      1212  1411     8     2         15   \n",
       "5        164        1  ...       1004      1654  1067    17     1         10   \n",
       "6        139        8  ...        381      1018  3220    13     8         18   \n",
       "7        187        4  ...        512      1149   700    16     3          5   \n",
       "8        174        7  ...        386       836  1099    17     1         20   \n",
       "9         93        5  ...       1137      1224   513    19    10         12   \n",
       "\n",
       "   three_g  touch_screen  wifi  price_range  \n",
       "0        0             0     1            1  \n",
       "1        1             1     0            2  \n",
       "2        1             1     0            2  \n",
       "3        1             0     0            2  \n",
       "4        1             1     0            1  \n",
       "5        1             0     0            1  \n",
       "6        1             0     1            3  \n",
       "7        1             1     1            0  \n",
       "8        1             0     0            0  \n",
       "9        1             0     0            0  \n",
       "\n",
       "[10 rows x 21 columns]"
      ]
     },
     "execution_count": 3,
     "metadata": {},
     "output_type": "execute_result"
    }
   ],
   "source": [
    "df.head(10)"
   ]
  },
  {
   "cell_type": "markdown",
   "metadata": {
    "id": "PYn-J6fk-Td4"
   },
   "source": [
    "First 10 rows of your DataFrame, which contains various features (attributes) of mobile phones.The last column, price_range, represent the price range of the mobile phone.\n",
    "\n",
    "Each row represents a different mobile phone, and each column represents a specific attribute of that phone. The values in each cell represent the corresponding attribute's value for that particular phone."
   ]
  },
  {
   "cell_type": "code",
   "execution_count": null,
   "metadata": {
    "id": "ZPqaM0DXDPhR",
    "outputId": "c129a1e4-df4d-47d3-81ba-dbc546464434"
   },
   "outputs": [
    {
     "name": "stdout",
     "output_type": "stream",
     "text": [
      "<class 'pandas.core.frame.DataFrame'>\n",
      "RangeIndex: 2000 entries, 0 to 1999\n",
      "Data columns (total 21 columns):\n",
      " #   Column         Non-Null Count  Dtype  \n",
      "---  ------         --------------  -----  \n",
      " 0   battery_power  2000 non-null   int64  \n",
      " 1   blue           2000 non-null   int64  \n",
      " 2   clock_speed    2000 non-null   float64\n",
      " 3   dual_sim       2000 non-null   int64  \n",
      " 4   fc             2000 non-null   int64  \n",
      " 5   four_g         2000 non-null   int64  \n",
      " 6   int_memory     2000 non-null   int64  \n",
      " 7   m_dep          2000 non-null   float64\n",
      " 8   mobile_wt      2000 non-null   int64  \n",
      " 9   n_cores        2000 non-null   int64  \n",
      " 10  pc             2000 non-null   int64  \n",
      " 11  px_height      2000 non-null   int64  \n",
      " 12  px_width       2000 non-null   int64  \n",
      " 13  ram            2000 non-null   int64  \n",
      " 14  sc_h           2000 non-null   int64  \n",
      " 15  sc_w           2000 non-null   int64  \n",
      " 16  talk_time      2000 non-null   int64  \n",
      " 17  three_g        2000 non-null   int64  \n",
      " 18  touch_screen   2000 non-null   int64  \n",
      " 19  wifi           2000 non-null   int64  \n",
      " 20  price_range    2000 non-null   int64  \n",
      "dtypes: float64(2), int64(19)\n",
      "memory usage: 328.2 KB\n"
     ]
    }
   ],
   "source": [
    "#displaying a summary of the DataFrame's basic information\n",
    "df.info()"
   ]
  },
  {
   "cell_type": "code",
   "execution_count": null,
   "metadata": {
    "id": "hO9BPpPtDPhR",
    "outputId": "ca5bbc03-a932-4d4f-acfe-05d0cb0cb5b9"
   },
   "outputs": [
    {
     "name": "stdout",
     "output_type": "stream",
     "text": [
      "[0 1 2 3]\n"
     ]
    }
   ],
   "source": [
    "#Finding the unique values\n",
    "print(np.unique(df['price_range']))"
   ]
  },
  {
   "cell_type": "code",
   "execution_count": null,
   "metadata": {
    "id": "6RrUD4KoDPhR",
    "outputId": "b343c409-7fb7-4bf6-a1e6-db78ccd5f501"
   },
   "outputs": [
    {
     "data": {
      "text/html": [
       "<div>\n",
       "<style scoped>\n",
       "    .dataframe tbody tr th:only-of-type {\n",
       "        vertical-align: middle;\n",
       "    }\n",
       "\n",
       "    .dataframe tbody tr th {\n",
       "        vertical-align: top;\n",
       "    }\n",
       "\n",
       "    .dataframe thead th {\n",
       "        text-align: right;\n",
       "    }\n",
       "</style>\n",
       "<table border=\"1\" class=\"dataframe\">\n",
       "  <thead>\n",
       "    <tr style=\"text-align: right;\">\n",
       "      <th></th>\n",
       "      <th>battery_power</th>\n",
       "      <th>blue</th>\n",
       "      <th>clock_speed</th>\n",
       "      <th>dual_sim</th>\n",
       "      <th>fc</th>\n",
       "      <th>four_g</th>\n",
       "      <th>int_memory</th>\n",
       "      <th>m_dep</th>\n",
       "      <th>mobile_wt</th>\n",
       "      <th>n_cores</th>\n",
       "      <th>...</th>\n",
       "      <th>px_height</th>\n",
       "      <th>px_width</th>\n",
       "      <th>ram</th>\n",
       "      <th>sc_h</th>\n",
       "      <th>sc_w</th>\n",
       "      <th>talk_time</th>\n",
       "      <th>three_g</th>\n",
       "      <th>touch_screen</th>\n",
       "      <th>wifi</th>\n",
       "      <th>price_range</th>\n",
       "    </tr>\n",
       "  </thead>\n",
       "  <tbody>\n",
       "    <tr>\n",
       "      <th>count</th>\n",
       "      <td>2000.000000</td>\n",
       "      <td>2000.0000</td>\n",
       "      <td>2000.000000</td>\n",
       "      <td>2000.000000</td>\n",
       "      <td>2000.000000</td>\n",
       "      <td>2000.000000</td>\n",
       "      <td>2000.000000</td>\n",
       "      <td>2000.000000</td>\n",
       "      <td>2000.000000</td>\n",
       "      <td>2000.000000</td>\n",
       "      <td>...</td>\n",
       "      <td>2000.000000</td>\n",
       "      <td>2000.000000</td>\n",
       "      <td>2000.000000</td>\n",
       "      <td>2000.000000</td>\n",
       "      <td>2000.000000</td>\n",
       "      <td>2000.000000</td>\n",
       "      <td>2000.000000</td>\n",
       "      <td>2000.000000</td>\n",
       "      <td>2000.000000</td>\n",
       "      <td>2000.000000</td>\n",
       "    </tr>\n",
       "    <tr>\n",
       "      <th>mean</th>\n",
       "      <td>1238.518500</td>\n",
       "      <td>0.4950</td>\n",
       "      <td>1.522250</td>\n",
       "      <td>0.509500</td>\n",
       "      <td>4.309500</td>\n",
       "      <td>0.521500</td>\n",
       "      <td>32.046500</td>\n",
       "      <td>0.501750</td>\n",
       "      <td>140.249000</td>\n",
       "      <td>4.520500</td>\n",
       "      <td>...</td>\n",
       "      <td>645.108000</td>\n",
       "      <td>1251.515500</td>\n",
       "      <td>2124.213000</td>\n",
       "      <td>12.306500</td>\n",
       "      <td>5.767000</td>\n",
       "      <td>11.011000</td>\n",
       "      <td>0.761500</td>\n",
       "      <td>0.503000</td>\n",
       "      <td>0.507000</td>\n",
       "      <td>1.500000</td>\n",
       "    </tr>\n",
       "    <tr>\n",
       "      <th>std</th>\n",
       "      <td>439.418206</td>\n",
       "      <td>0.5001</td>\n",
       "      <td>0.816004</td>\n",
       "      <td>0.500035</td>\n",
       "      <td>4.341444</td>\n",
       "      <td>0.499662</td>\n",
       "      <td>18.145715</td>\n",
       "      <td>0.288416</td>\n",
       "      <td>35.399655</td>\n",
       "      <td>2.287837</td>\n",
       "      <td>...</td>\n",
       "      <td>443.780811</td>\n",
       "      <td>432.199447</td>\n",
       "      <td>1084.732044</td>\n",
       "      <td>4.213245</td>\n",
       "      <td>4.356398</td>\n",
       "      <td>5.463955</td>\n",
       "      <td>0.426273</td>\n",
       "      <td>0.500116</td>\n",
       "      <td>0.500076</td>\n",
       "      <td>1.118314</td>\n",
       "    </tr>\n",
       "    <tr>\n",
       "      <th>min</th>\n",
       "      <td>501.000000</td>\n",
       "      <td>0.0000</td>\n",
       "      <td>0.500000</td>\n",
       "      <td>0.000000</td>\n",
       "      <td>0.000000</td>\n",
       "      <td>0.000000</td>\n",
       "      <td>2.000000</td>\n",
       "      <td>0.100000</td>\n",
       "      <td>80.000000</td>\n",
       "      <td>1.000000</td>\n",
       "      <td>...</td>\n",
       "      <td>0.000000</td>\n",
       "      <td>500.000000</td>\n",
       "      <td>256.000000</td>\n",
       "      <td>5.000000</td>\n",
       "      <td>0.000000</td>\n",
       "      <td>2.000000</td>\n",
       "      <td>0.000000</td>\n",
       "      <td>0.000000</td>\n",
       "      <td>0.000000</td>\n",
       "      <td>0.000000</td>\n",
       "    </tr>\n",
       "    <tr>\n",
       "      <th>25%</th>\n",
       "      <td>851.750000</td>\n",
       "      <td>0.0000</td>\n",
       "      <td>0.700000</td>\n",
       "      <td>0.000000</td>\n",
       "      <td>1.000000</td>\n",
       "      <td>0.000000</td>\n",
       "      <td>16.000000</td>\n",
       "      <td>0.200000</td>\n",
       "      <td>109.000000</td>\n",
       "      <td>3.000000</td>\n",
       "      <td>...</td>\n",
       "      <td>282.750000</td>\n",
       "      <td>874.750000</td>\n",
       "      <td>1207.500000</td>\n",
       "      <td>9.000000</td>\n",
       "      <td>2.000000</td>\n",
       "      <td>6.000000</td>\n",
       "      <td>1.000000</td>\n",
       "      <td>0.000000</td>\n",
       "      <td>0.000000</td>\n",
       "      <td>0.750000</td>\n",
       "    </tr>\n",
       "    <tr>\n",
       "      <th>50%</th>\n",
       "      <td>1226.000000</td>\n",
       "      <td>0.0000</td>\n",
       "      <td>1.500000</td>\n",
       "      <td>1.000000</td>\n",
       "      <td>3.000000</td>\n",
       "      <td>1.000000</td>\n",
       "      <td>32.000000</td>\n",
       "      <td>0.500000</td>\n",
       "      <td>141.000000</td>\n",
       "      <td>4.000000</td>\n",
       "      <td>...</td>\n",
       "      <td>564.000000</td>\n",
       "      <td>1247.000000</td>\n",
       "      <td>2146.500000</td>\n",
       "      <td>12.000000</td>\n",
       "      <td>5.000000</td>\n",
       "      <td>11.000000</td>\n",
       "      <td>1.000000</td>\n",
       "      <td>1.000000</td>\n",
       "      <td>1.000000</td>\n",
       "      <td>1.500000</td>\n",
       "    </tr>\n",
       "    <tr>\n",
       "      <th>75%</th>\n",
       "      <td>1615.250000</td>\n",
       "      <td>1.0000</td>\n",
       "      <td>2.200000</td>\n",
       "      <td>1.000000</td>\n",
       "      <td>7.000000</td>\n",
       "      <td>1.000000</td>\n",
       "      <td>48.000000</td>\n",
       "      <td>0.800000</td>\n",
       "      <td>170.000000</td>\n",
       "      <td>7.000000</td>\n",
       "      <td>...</td>\n",
       "      <td>947.250000</td>\n",
       "      <td>1633.000000</td>\n",
       "      <td>3064.500000</td>\n",
       "      <td>16.000000</td>\n",
       "      <td>9.000000</td>\n",
       "      <td>16.000000</td>\n",
       "      <td>1.000000</td>\n",
       "      <td>1.000000</td>\n",
       "      <td>1.000000</td>\n",
       "      <td>2.250000</td>\n",
       "    </tr>\n",
       "    <tr>\n",
       "      <th>max</th>\n",
       "      <td>1998.000000</td>\n",
       "      <td>1.0000</td>\n",
       "      <td>3.000000</td>\n",
       "      <td>1.000000</td>\n",
       "      <td>19.000000</td>\n",
       "      <td>1.000000</td>\n",
       "      <td>64.000000</td>\n",
       "      <td>1.000000</td>\n",
       "      <td>200.000000</td>\n",
       "      <td>8.000000</td>\n",
       "      <td>...</td>\n",
       "      <td>1960.000000</td>\n",
       "      <td>1998.000000</td>\n",
       "      <td>3998.000000</td>\n",
       "      <td>19.000000</td>\n",
       "      <td>18.000000</td>\n",
       "      <td>20.000000</td>\n",
       "      <td>1.000000</td>\n",
       "      <td>1.000000</td>\n",
       "      <td>1.000000</td>\n",
       "      <td>3.000000</td>\n",
       "    </tr>\n",
       "  </tbody>\n",
       "</table>\n",
       "<p>8 rows × 21 columns</p>\n",
       "</div>"
      ],
      "text/plain": [
       "       battery_power       blue  clock_speed     dual_sim           fc  \\\n",
       "count    2000.000000  2000.0000  2000.000000  2000.000000  2000.000000   \n",
       "mean     1238.518500     0.4950     1.522250     0.509500     4.309500   \n",
       "std       439.418206     0.5001     0.816004     0.500035     4.341444   \n",
       "min       501.000000     0.0000     0.500000     0.000000     0.000000   \n",
       "25%       851.750000     0.0000     0.700000     0.000000     1.000000   \n",
       "50%      1226.000000     0.0000     1.500000     1.000000     3.000000   \n",
       "75%      1615.250000     1.0000     2.200000     1.000000     7.000000   \n",
       "max      1998.000000     1.0000     3.000000     1.000000    19.000000   \n",
       "\n",
       "            four_g   int_memory        m_dep    mobile_wt      n_cores  ...  \\\n",
       "count  2000.000000  2000.000000  2000.000000  2000.000000  2000.000000  ...   \n",
       "mean      0.521500    32.046500     0.501750   140.249000     4.520500  ...   \n",
       "std       0.499662    18.145715     0.288416    35.399655     2.287837  ...   \n",
       "min       0.000000     2.000000     0.100000    80.000000     1.000000  ...   \n",
       "25%       0.000000    16.000000     0.200000   109.000000     3.000000  ...   \n",
       "50%       1.000000    32.000000     0.500000   141.000000     4.000000  ...   \n",
       "75%       1.000000    48.000000     0.800000   170.000000     7.000000  ...   \n",
       "max       1.000000    64.000000     1.000000   200.000000     8.000000  ...   \n",
       "\n",
       "         px_height     px_width          ram         sc_h         sc_w  \\\n",
       "count  2000.000000  2000.000000  2000.000000  2000.000000  2000.000000   \n",
       "mean    645.108000  1251.515500  2124.213000    12.306500     5.767000   \n",
       "std     443.780811   432.199447  1084.732044     4.213245     4.356398   \n",
       "min       0.000000   500.000000   256.000000     5.000000     0.000000   \n",
       "25%     282.750000   874.750000  1207.500000     9.000000     2.000000   \n",
       "50%     564.000000  1247.000000  2146.500000    12.000000     5.000000   \n",
       "75%     947.250000  1633.000000  3064.500000    16.000000     9.000000   \n",
       "max    1960.000000  1998.000000  3998.000000    19.000000    18.000000   \n",
       "\n",
       "         talk_time      three_g  touch_screen         wifi  price_range  \n",
       "count  2000.000000  2000.000000   2000.000000  2000.000000  2000.000000  \n",
       "mean     11.011000     0.761500      0.503000     0.507000     1.500000  \n",
       "std       5.463955     0.426273      0.500116     0.500076     1.118314  \n",
       "min       2.000000     0.000000      0.000000     0.000000     0.000000  \n",
       "25%       6.000000     1.000000      0.000000     0.000000     0.750000  \n",
       "50%      11.000000     1.000000      1.000000     1.000000     1.500000  \n",
       "75%      16.000000     1.000000      1.000000     1.000000     2.250000  \n",
       "max      20.000000     1.000000      1.000000     1.000000     3.000000  \n",
       "\n",
       "[8 rows x 21 columns]"
      ]
     },
     "execution_count": 6,
     "metadata": {},
     "output_type": "execute_result"
    }
   ],
   "source": [
    "#Summary of basic statistical information about the numerical columns\n",
    "df.describe()"
   ]
  },
  {
   "cell_type": "code",
   "execution_count": null,
   "metadata": {
    "id": "gBai0txADPhS"
   },
   "outputs": [],
   "source": [
    "# Lets Divide the data to input and target\n",
    "X = df.iloc[:,0:20]\n",
    "y = df.iloc[:,-1]"
   ]
  },
  {
   "cell_type": "markdown",
   "metadata": {
    "id": "WkjlBuxaAQy3"
   },
   "source": [
    "**Creating feature and target variables**"
   ]
  },
  {
   "cell_type": "code",
   "execution_count": null,
   "metadata": {
    "id": "O_gu-X4FDPhS"
   },
   "outputs": [],
   "source": [
    "# Lets do some Feature Selection for better results and accuracy\n",
    "from sklearn.feature_selection import chi2\n",
    "from sklearn.feature_selection import SelectKBest"
   ]
  },
  {
   "cell_type": "markdown",
   "metadata": {
    "id": "vjQc8UQQE_iS"
   },
   "source": [
    "<h3>In this specific case, the SelectKBest class is used to select the top K features based on a scoring function. The scoring function quantifies the relevance or importance of each feature with respect to the target variable. The higher the score, the more relevant the feature is expected to be for predicting the target variable."
   ]
  },
  {
   "cell_type": "code",
   "execution_count": null,
   "metadata": {
    "id": "LiwUsX3cDPhS"
   },
   "outputs": [],
   "source": [
    "#Performing feature selection using the chi-squared (chi2) statistical test.\n",
    "kbest = SelectKBest(chi2,k=10)"
   ]
  },
  {
   "cell_type": "code",
   "execution_count": null,
   "metadata": {
    "id": "1BJZAMGdDPhS"
   },
   "outputs": [],
   "source": [
    "#Fitting the SelectKBest instance kbest to your feature matrix X and target vector y.\n",
    "best_feaures = kbest.fit(X,y)"
   ]
  },
  {
   "cell_type": "code",
   "execution_count": null,
   "metadata": {
    "id": "44j7diBYDPhS",
    "outputId": "9bdc7178-580f-4126-8269-0886324d2325"
   },
   "outputs": [
    {
     "data": {
      "text/plain": [
       "array([1.41298666e+04, 7.23232323e-01, 6.48365906e-01, 6.31010795e-01,\n",
       "       1.01351665e+01, 1.52157239e+00, 8.98391244e+01, 7.45819631e-01,\n",
       "       9.59728626e+01, 9.09755558e+00, 9.18605355e+00, 1.73635695e+04,\n",
       "       9.81058675e+03, 9.31267519e+05, 9.61487832e+00, 1.64803191e+01,\n",
       "       1.32364000e+01, 3.27642810e-01, 1.92842942e+00, 4.22090730e-01])"
      ]
     },
     "execution_count": 11,
     "metadata": {},
     "output_type": "execute_result"
    }
   ],
   "source": [
    "best_feaures.scores_"
   ]
  },
  {
   "cell_type": "markdown",
   "metadata": {
    "id": "UYxR8pnHBy7a"
   },
   "source": [
    "These scores indicate the strength of the relationship between each feature and the target variable."
   ]
  },
  {
   "cell_type": "code",
   "execution_count": null,
   "metadata": {
    "id": "bQsz6NdxDPhT"
   },
   "outputs": [],
   "source": [
    "#Creating two new DataFrames\n",
    "df_features = pd.DataFrame(best_feaures.scores_)\n",
    "df_columns = pd.DataFrame(X.columns)"
   ]
  },
  {
   "cell_type": "code",
   "execution_count": null,
   "metadata": {
    "id": "ttAGqhNNDPhT"
   },
   "outputs": [],
   "source": [
    "#Combining the Dataframes\n",
    "featureScores = pd.concat([df_columns,df_features],axis=1)"
   ]
  },
  {
   "cell_type": "code",
   "execution_count": null,
   "metadata": {
    "id": "gNEtHr7-DPhT"
   },
   "outputs": [],
   "source": [
    "#Renaming the Columns\n",
    "featureScores.columns = ['Features','Score']"
   ]
  },
  {
   "cell_type": "code",
   "execution_count": null,
   "metadata": {
    "id": "h_aqfV2mDPhT",
    "outputId": "84de3e88-be3b-4851-921b-8134dc099a58"
   },
   "outputs": [
    {
     "data": {
      "text/html": [
       "<div>\n",
       "<style scoped>\n",
       "    .dataframe tbody tr th:only-of-type {\n",
       "        vertical-align: middle;\n",
       "    }\n",
       "\n",
       "    .dataframe tbody tr th {\n",
       "        vertical-align: top;\n",
       "    }\n",
       "\n",
       "    .dataframe thead th {\n",
       "        text-align: right;\n",
       "    }\n",
       "</style>\n",
       "<table border=\"1\" class=\"dataframe\">\n",
       "  <thead>\n",
       "    <tr style=\"text-align: right;\">\n",
       "      <th></th>\n",
       "      <th>Features</th>\n",
       "      <th>Score</th>\n",
       "    </tr>\n",
       "  </thead>\n",
       "  <tbody>\n",
       "    <tr>\n",
       "      <th>13</th>\n",
       "      <td>ram</td>\n",
       "      <td>931267.519053</td>\n",
       "    </tr>\n",
       "    <tr>\n",
       "      <th>11</th>\n",
       "      <td>px_height</td>\n",
       "      <td>17363.569536</td>\n",
       "    </tr>\n",
       "    <tr>\n",
       "      <th>0</th>\n",
       "      <td>battery_power</td>\n",
       "      <td>14129.866576</td>\n",
       "    </tr>\n",
       "    <tr>\n",
       "      <th>12</th>\n",
       "      <td>px_width</td>\n",
       "      <td>9810.586750</td>\n",
       "    </tr>\n",
       "    <tr>\n",
       "      <th>8</th>\n",
       "      <td>mobile_wt</td>\n",
       "      <td>95.972863</td>\n",
       "    </tr>\n",
       "    <tr>\n",
       "      <th>6</th>\n",
       "      <td>int_memory</td>\n",
       "      <td>89.839124</td>\n",
       "    </tr>\n",
       "    <tr>\n",
       "      <th>15</th>\n",
       "      <td>sc_w</td>\n",
       "      <td>16.480319</td>\n",
       "    </tr>\n",
       "    <tr>\n",
       "      <th>16</th>\n",
       "      <td>talk_time</td>\n",
       "      <td>13.236400</td>\n",
       "    </tr>\n",
       "    <tr>\n",
       "      <th>4</th>\n",
       "      <td>fc</td>\n",
       "      <td>10.135166</td>\n",
       "    </tr>\n",
       "    <tr>\n",
       "      <th>14</th>\n",
       "      <td>sc_h</td>\n",
       "      <td>9.614878</td>\n",
       "    </tr>\n",
       "    <tr>\n",
       "      <th>10</th>\n",
       "      <td>pc</td>\n",
       "      <td>9.186054</td>\n",
       "    </tr>\n",
       "    <tr>\n",
       "      <th>9</th>\n",
       "      <td>n_cores</td>\n",
       "      <td>9.097556</td>\n",
       "    </tr>\n",
       "    <tr>\n",
       "      <th>18</th>\n",
       "      <td>touch_screen</td>\n",
       "      <td>1.928429</td>\n",
       "    </tr>\n",
       "    <tr>\n",
       "      <th>5</th>\n",
       "      <td>four_g</td>\n",
       "      <td>1.521572</td>\n",
       "    </tr>\n",
       "    <tr>\n",
       "      <th>7</th>\n",
       "      <td>m_dep</td>\n",
       "      <td>0.745820</td>\n",
       "    </tr>\n",
       "    <tr>\n",
       "      <th>1</th>\n",
       "      <td>blue</td>\n",
       "      <td>0.723232</td>\n",
       "    </tr>\n",
       "    <tr>\n",
       "      <th>2</th>\n",
       "      <td>clock_speed</td>\n",
       "      <td>0.648366</td>\n",
       "    </tr>\n",
       "    <tr>\n",
       "      <th>3</th>\n",
       "      <td>dual_sim</td>\n",
       "      <td>0.631011</td>\n",
       "    </tr>\n",
       "    <tr>\n",
       "      <th>19</th>\n",
       "      <td>wifi</td>\n",
       "      <td>0.422091</td>\n",
       "    </tr>\n",
       "    <tr>\n",
       "      <th>17</th>\n",
       "      <td>three_g</td>\n",
       "      <td>0.327643</td>\n",
       "    </tr>\n",
       "  </tbody>\n",
       "</table>\n",
       "</div>"
      ],
      "text/plain": [
       "         Features          Score\n",
       "13            ram  931267.519053\n",
       "11      px_height   17363.569536\n",
       "0   battery_power   14129.866576\n",
       "12       px_width    9810.586750\n",
       "8       mobile_wt      95.972863\n",
       "6      int_memory      89.839124\n",
       "15           sc_w      16.480319\n",
       "16      talk_time      13.236400\n",
       "4              fc      10.135166\n",
       "14           sc_h       9.614878\n",
       "10             pc       9.186054\n",
       "9         n_cores       9.097556\n",
       "18   touch_screen       1.928429\n",
       "5          four_g       1.521572\n",
       "7           m_dep       0.745820\n",
       "1            blue       0.723232\n",
       "2     clock_speed       0.648366\n",
       "3        dual_sim       0.631011\n",
       "19           wifi       0.422091\n",
       "17        three_g       0.327643"
      ]
     },
     "execution_count": 15,
     "metadata": {},
     "output_type": "execute_result"
    }
   ],
   "source": [
    "featureScores.sort_values(by='Score',ascending=False)"
   ]
  },
  {
   "cell_type": "code",
   "execution_count": null,
   "metadata": {
    "id": "69jGZDJADPhT"
   },
   "outputs": [],
   "source": [
    "#Created a new DataFrame X containing a subset of columns from the original DataFrame df.\n",
    "X = df[['ram','px_height','battery_power','px_width','mobile_wt','int_memory','sc_w','talk_time','fc','sc_h']]"
   ]
  },
  {
   "cell_type": "code",
   "execution_count": null,
   "metadata": {
    "id": "4nKi9WHPDPhT",
    "outputId": "5caa3613-1e8f-45ec-c1e5-6fd98f674d50"
   },
   "outputs": [
    {
     "data": {
      "text/html": [
       "<div>\n",
       "<style scoped>\n",
       "    .dataframe tbody tr th:only-of-type {\n",
       "        vertical-align: middle;\n",
       "    }\n",
       "\n",
       "    .dataframe tbody tr th {\n",
       "        vertical-align: top;\n",
       "    }\n",
       "\n",
       "    .dataframe thead th {\n",
       "        text-align: right;\n",
       "    }\n",
       "</style>\n",
       "<table border=\"1\" class=\"dataframe\">\n",
       "  <thead>\n",
       "    <tr style=\"text-align: right;\">\n",
       "      <th></th>\n",
       "      <th>ram</th>\n",
       "      <th>px_height</th>\n",
       "      <th>battery_power</th>\n",
       "      <th>px_width</th>\n",
       "      <th>mobile_wt</th>\n",
       "      <th>int_memory</th>\n",
       "      <th>sc_w</th>\n",
       "      <th>talk_time</th>\n",
       "      <th>fc</th>\n",
       "      <th>sc_h</th>\n",
       "    </tr>\n",
       "  </thead>\n",
       "  <tbody>\n",
       "    <tr>\n",
       "      <th>0</th>\n",
       "      <td>2549</td>\n",
       "      <td>20</td>\n",
       "      <td>842</td>\n",
       "      <td>756</td>\n",
       "      <td>188</td>\n",
       "      <td>7</td>\n",
       "      <td>7</td>\n",
       "      <td>19</td>\n",
       "      <td>1</td>\n",
       "      <td>9</td>\n",
       "    </tr>\n",
       "    <tr>\n",
       "      <th>1</th>\n",
       "      <td>2631</td>\n",
       "      <td>905</td>\n",
       "      <td>1021</td>\n",
       "      <td>1988</td>\n",
       "      <td>136</td>\n",
       "      <td>53</td>\n",
       "      <td>3</td>\n",
       "      <td>7</td>\n",
       "      <td>0</td>\n",
       "      <td>17</td>\n",
       "    </tr>\n",
       "    <tr>\n",
       "      <th>2</th>\n",
       "      <td>2603</td>\n",
       "      <td>1263</td>\n",
       "      <td>563</td>\n",
       "      <td>1716</td>\n",
       "      <td>145</td>\n",
       "      <td>41</td>\n",
       "      <td>2</td>\n",
       "      <td>9</td>\n",
       "      <td>2</td>\n",
       "      <td>11</td>\n",
       "    </tr>\n",
       "    <tr>\n",
       "      <th>3</th>\n",
       "      <td>2769</td>\n",
       "      <td>1216</td>\n",
       "      <td>615</td>\n",
       "      <td>1786</td>\n",
       "      <td>131</td>\n",
       "      <td>10</td>\n",
       "      <td>8</td>\n",
       "      <td>11</td>\n",
       "      <td>0</td>\n",
       "      <td>16</td>\n",
       "    </tr>\n",
       "    <tr>\n",
       "      <th>4</th>\n",
       "      <td>1411</td>\n",
       "      <td>1208</td>\n",
       "      <td>1821</td>\n",
       "      <td>1212</td>\n",
       "      <td>141</td>\n",
       "      <td>44</td>\n",
       "      <td>2</td>\n",
       "      <td>15</td>\n",
       "      <td>13</td>\n",
       "      <td>8</td>\n",
       "    </tr>\n",
       "    <tr>\n",
       "      <th>...</th>\n",
       "      <td>...</td>\n",
       "      <td>...</td>\n",
       "      <td>...</td>\n",
       "      <td>...</td>\n",
       "      <td>...</td>\n",
       "      <td>...</td>\n",
       "      <td>...</td>\n",
       "      <td>...</td>\n",
       "      <td>...</td>\n",
       "      <td>...</td>\n",
       "    </tr>\n",
       "    <tr>\n",
       "      <th>1995</th>\n",
       "      <td>668</td>\n",
       "      <td>1222</td>\n",
       "      <td>794</td>\n",
       "      <td>1890</td>\n",
       "      <td>106</td>\n",
       "      <td>2</td>\n",
       "      <td>4</td>\n",
       "      <td>19</td>\n",
       "      <td>0</td>\n",
       "      <td>13</td>\n",
       "    </tr>\n",
       "    <tr>\n",
       "      <th>1996</th>\n",
       "      <td>2032</td>\n",
       "      <td>915</td>\n",
       "      <td>1965</td>\n",
       "      <td>1965</td>\n",
       "      <td>187</td>\n",
       "      <td>39</td>\n",
       "      <td>10</td>\n",
       "      <td>16</td>\n",
       "      <td>0</td>\n",
       "      <td>11</td>\n",
       "    </tr>\n",
       "    <tr>\n",
       "      <th>1997</th>\n",
       "      <td>3057</td>\n",
       "      <td>868</td>\n",
       "      <td>1911</td>\n",
       "      <td>1632</td>\n",
       "      <td>108</td>\n",
       "      <td>36</td>\n",
       "      <td>1</td>\n",
       "      <td>5</td>\n",
       "      <td>1</td>\n",
       "      <td>9</td>\n",
       "    </tr>\n",
       "    <tr>\n",
       "      <th>1998</th>\n",
       "      <td>869</td>\n",
       "      <td>336</td>\n",
       "      <td>1512</td>\n",
       "      <td>670</td>\n",
       "      <td>145</td>\n",
       "      <td>46</td>\n",
       "      <td>10</td>\n",
       "      <td>19</td>\n",
       "      <td>4</td>\n",
       "      <td>18</td>\n",
       "    </tr>\n",
       "    <tr>\n",
       "      <th>1999</th>\n",
       "      <td>3919</td>\n",
       "      <td>483</td>\n",
       "      <td>510</td>\n",
       "      <td>754</td>\n",
       "      <td>168</td>\n",
       "      <td>45</td>\n",
       "      <td>4</td>\n",
       "      <td>2</td>\n",
       "      <td>5</td>\n",
       "      <td>19</td>\n",
       "    </tr>\n",
       "  </tbody>\n",
       "</table>\n",
       "<p>2000 rows × 10 columns</p>\n",
       "</div>"
      ],
      "text/plain": [
       "       ram  px_height  battery_power  px_width  mobile_wt  int_memory  sc_w  \\\n",
       "0     2549         20            842       756        188           7     7   \n",
       "1     2631        905           1021      1988        136          53     3   \n",
       "2     2603       1263            563      1716        145          41     2   \n",
       "3     2769       1216            615      1786        131          10     8   \n",
       "4     1411       1208           1821      1212        141          44     2   \n",
       "...    ...        ...            ...       ...        ...         ...   ...   \n",
       "1995   668       1222            794      1890        106           2     4   \n",
       "1996  2032        915           1965      1965        187          39    10   \n",
       "1997  3057        868           1911      1632        108          36     1   \n",
       "1998   869        336           1512       670        145          46    10   \n",
       "1999  3919        483            510       754        168          45     4   \n",
       "\n",
       "      talk_time  fc  sc_h  \n",
       "0            19   1     9  \n",
       "1             7   0    17  \n",
       "2             9   2    11  \n",
       "3            11   0    16  \n",
       "4            15  13     8  \n",
       "...         ...  ..   ...  \n",
       "1995         19   0    13  \n",
       "1996         16   0    11  \n",
       "1997          5   1     9  \n",
       "1998         19   4    18  \n",
       "1999          2   5    19  \n",
       "\n",
       "[2000 rows x 10 columns]"
      ]
     },
     "execution_count": 17,
     "metadata": {},
     "output_type": "execute_result"
    }
   ],
   "source": [
    "X"
   ]
  },
  {
   "cell_type": "code",
   "execution_count": null,
   "metadata": {
    "id": "KmK2JNMaDPhT"
   },
   "outputs": [],
   "source": [
    "#Converting feature and target variables from DataFrames to NumPy arrays using the values attribute.\n",
    "X = X.values\n",
    "y = y.values"
   ]
  },
  {
   "cell_type": "code",
   "execution_count": null,
   "metadata": {
    "id": "x5YaJAKpDPhU",
    "outputId": "3c9e6274-29cc-4ab6-fe8c-7babb4cc13f6"
   },
   "outputs": [
    {
     "name": "stdout",
     "output_type": "stream",
     "text": [
      "(2000, 10) (2000,)\n"
     ]
    }
   ],
   "source": [
    "#Displaying the shapes\n",
    "print(X.shape,y.shape)"
   ]
  },
  {
   "cell_type": "markdown",
   "metadata": {
    "id": "4Ei4ssuHDPhU"
   },
   "source": [
    "## Normalisation and Scaling"
   ]
  },
  {
   "cell_type": "code",
   "execution_count": null,
   "metadata": {
    "id": "7bHg5DIsDPhV"
   },
   "outputs": [],
   "source": [
    "# lets do some normalisation and scaling\n",
    "from sklearn.preprocessing import StandardScaler\n",
    "sc = StandardScaler()\n",
    "X = sc.fit_transform(X)"
   ]
  },
  {
   "cell_type": "code",
   "execution_count": null,
   "metadata": {
    "id": "B8i3TGQWDPhV"
   },
   "outputs": [],
   "source": [
    "#Reshape target vector y into a 2D array with a single column.\n",
    "y = y.reshape(-1,1)"
   ]
  },
  {
   "cell_type": "markdown",
   "metadata": {
    "id": "EWZu73jCfrmD"
   },
   "source": [
    "<h3>The code utilizes the OneHotEncoder class from sklearn.preprocessing to perform one-hot encoding on a categorical target variable y. One-hot encoding converts categorical data into a binary matrix representation, aiding machine learning algorithms. An instance of the encoder is created, and the fit_transform method is applied to y, resulting in the transformed one-hot encoded matrix."
   ]
  },
  {
   "cell_type": "code",
   "execution_count": null,
   "metadata": {
    "id": "Hng7yPrKDPhV"
   },
   "outputs": [],
   "source": [
    "# Now converting y labels to one hot encoder\n",
    "from sklearn.preprocessing import OneHotEncoder\n",
    "ohot = OneHotEncoder()\n",
    "y = ohot.fit_transform(y)"
   ]
  },
  {
   "cell_type": "code",
   "execution_count": null,
   "metadata": {
    "id": "jrZMjAaODPhV"
   },
   "outputs": [],
   "source": [
    "y = y.toarray()"
   ]
  },
  {
   "cell_type": "markdown",
   "metadata": {
    "id": "KEANmmBHDPhV"
   },
   "source": [
    "# Train Test Split"
   ]
  },
  {
   "cell_type": "code",
   "execution_count": null,
   "metadata": {
    "id": "dmnhrMytDPhW"
   },
   "outputs": [],
   "source": [
    "from sklearn.model_selection import train_test_split"
   ]
  },
  {
   "cell_type": "code",
   "execution_count": null,
   "metadata": {
    "id": "0zVhD7t7DPhW"
   },
   "outputs": [],
   "source": [
    "X_train, X_test, y_train, y_test = train_test_split(X, y, test_size=0.20, random_state=101)\n"
   ]
  },
  {
   "cell_type": "markdown",
   "metadata": {
    "id": "fhUoYHPYDPhW"
   },
   "source": [
    "# Neural network Model\n",
    "\n",
    "<h3>A neural network model, often simply referred to as a neural network, is a computational framework inspired by the way biological neural networks, such as the human brain, work. It's used for solving complex machine learning and artificial intelligence tasks, particularly tasks that involve pattern recognition, classification, regression, and other data-driven predictions.\n",
    "\n",
    "<h3>At its core, a neural network consists of interconnected units called neurons or nodes, organized into layers. Each neuron takes in input data, processes it using certain mathematical operations, and produces an output. The outputs from one layer become inputs for the next layer, allowing the network to learn hierarchical representations of patterns and relationships in the data."
   ]
  },
  {
   "cell_type": "markdown",
   "metadata": {
    "id": "o6IIRcZwdqbv"
   },
   "source": [
    "<h3>The ANN is constructed using the Keras library, a popular deep learning framework. The ANN is defined using the Sequential model in Keras, where you add layers sequentially to build the model's architecture. We defined various layers such as dense layers (fully connected layers), dropout layers (to prevent overfitting), batch normalization layers (to stabilize training), and activation functions (e.g., ReLU and softmax)."
   ]
  },
  {
   "cell_type": "code",
   "execution_count": null,
   "metadata": {
    "id": "4oI6bnttDPhW"
   },
   "outputs": [],
   "source": [
    "#Importing the necessary libraries and modules for creating a neural network using Keras\n",
    "import keras\n",
    "from keras.models import Sequential\n",
    "from keras.layers import *\n",
    "import matplotlib.pyplot as plt\n",
    "%matplotlib inline"
   ]
  },
  {
   "cell_type": "markdown",
   "metadata": {
    "id": "nr_uCfWvf7Px"
   },
   "source": [
    "<h3>Neural network model follows a sequential architecture, where information flows through different layers in a linear fashion. It begins with an input layer comprising 8 neurons and utilizes the ReLU activation function, enhancing the model's capacity to capture complex relationships in the data. The input dimension for this layer is 10, suggesting that the model expects input with 10 distinct features. The subsequent hidden layer, with 6 neurons and ReLU activation, continues to extract intricate patterns from the data. Finally, the output layer, featuring 4 neurons, implements the softmax activation function, which normalizes the outputs into a probability distribution over 4 classes."
   ]
  },
  {
   "cell_type": "code",
   "execution_count": null,
   "metadata": {
    "id": "TvrWqy_ODPhW"
   },
   "outputs": [],
   "source": [
    "#Defining a feedforward neural network model using Keras with three layers\n",
    "model = Sequential()\n",
    "model.add(Dense(8,activation='relu',input_dim = 10))\n",
    "model.add(Dense(6,activation='relu'))\n",
    "model.add(Dense(4,activation='softmax'))"
   ]
  },
  {
   "cell_type": "code",
   "execution_count": null,
   "metadata": {
    "id": "5t7fSbYFDPhW",
    "outputId": "8cd65b9e-0ac8-4ba9-af24-a6eef229ed5b"
   },
   "outputs": [
    {
     "name": "stdout",
     "output_type": "stream",
     "text": [
      "Model: \"sequential\"\n",
      "_________________________________________________________________\n",
      " Layer (type)                Output Shape              Param #   \n",
      "=================================================================\n",
      " dense (Dense)               (None, 8)                 88        \n",
      "                                                                 \n",
      " dense_1 (Dense)             (None, 6)                 54        \n",
      "                                                                 \n",
      " dense_2 (Dense)             (None, 4)                 28        \n",
      "                                                                 \n",
      "=================================================================\n",
      "Total params: 170\n",
      "Trainable params: 170\n",
      "Non-trainable params: 0\n",
      "_________________________________________________________________\n"
     ]
    }
   ],
   "source": [
    "model.summary()"
   ]
  },
  {
   "cell_type": "code",
   "execution_count": null,
   "metadata": {
    "id": "eK6HzEHJDPhW"
   },
   "outputs": [],
   "source": [
    "#Setting up the compilation of neural network model using Keras.\n",
    "model.compile(loss='categorical_crossentropy',optimizer='Adam',metrics=['accuracy'])"
   ]
  },
  {
   "cell_type": "markdown",
   "metadata": {
    "id": "4VNFxOcNd1JW"
   },
   "source": [
    "<h3>The ANN is compiled with a loss function (categorical cross-entropy) that quantifies the difference between predicted and actual labels. The optimization algorithm (Adam) adjusts the model's parameters during training to minimize the loss. Metrics like accuracy are used to measure the model's performance during training and evaluation."
   ]
  },
  {
   "cell_type": "code",
   "execution_count": null,
   "metadata": {
    "id": "WVqVjrRCDPhW",
    "outputId": "77b2e64f-46d8-4a90-dfa2-93610963e534"
   },
   "outputs": [
    {
     "name": "stdout",
     "output_type": "stream",
     "text": [
      "Epoch 1/105\n",
      "25/25 [==============================] - 1s 8ms/step - loss: 1.4379 - accuracy: 0.2244 - val_loss: 1.4263 - val_accuracy: 0.2300\n",
      "Epoch 2/105\n",
      "25/25 [==============================] - 0s 2ms/step - loss: 1.4116 - accuracy: 0.2456 - val_loss: 1.4159 - val_accuracy: 0.2475\n",
      "Epoch 3/105\n",
      "25/25 [==============================] - 0s 2ms/step - loss: 1.3952 - accuracy: 0.2631 - val_loss: 1.4087 - val_accuracy: 0.2500\n",
      "Epoch 4/105\n",
      "25/25 [==============================] - 0s 2ms/step - loss: 1.3823 - accuracy: 0.2756 - val_loss: 1.4006 - val_accuracy: 0.2425\n",
      "Epoch 5/105\n",
      "25/25 [==============================] - 0s 2ms/step - loss: 1.3680 - accuracy: 0.2975 - val_loss: 1.3891 - val_accuracy: 0.2500\n",
      "Epoch 6/105\n",
      "25/25 [==============================] - 0s 2ms/step - loss: 1.3492 - accuracy: 0.3425 - val_loss: 1.3704 - val_accuracy: 0.2925\n",
      "Epoch 7/105\n",
      "25/25 [==============================] - 0s 2ms/step - loss: 1.3206 - accuracy: 0.3938 - val_loss: 1.3439 - val_accuracy: 0.3600\n",
      "Epoch 8/105\n",
      "25/25 [==============================] - 0s 2ms/step - loss: 1.2812 - accuracy: 0.4387 - val_loss: 1.3056 - val_accuracy: 0.3925\n",
      "Epoch 9/105\n",
      "25/25 [==============================] - 0s 2ms/step - loss: 1.2294 - accuracy: 0.4781 - val_loss: 1.2570 - val_accuracy: 0.4300\n",
      "Epoch 10/105\n",
      "25/25 [==============================] - 0s 2ms/step - loss: 1.1698 - accuracy: 0.5100 - val_loss: 1.1989 - val_accuracy: 0.4500\n",
      "Epoch 11/105\n",
      "25/25 [==============================] - 0s 2ms/step - loss: 1.1036 - accuracy: 0.5288 - val_loss: 1.1339 - val_accuracy: 0.4775\n",
      "Epoch 12/105\n",
      "25/25 [==============================] - 0s 2ms/step - loss: 1.0350 - accuracy: 0.5562 - val_loss: 1.0699 - val_accuracy: 0.4900\n",
      "Epoch 13/105\n",
      "25/25 [==============================] - 0s 2ms/step - loss: 0.9671 - accuracy: 0.5744 - val_loss: 1.0051 - val_accuracy: 0.5200\n",
      "Epoch 14/105\n",
      "25/25 [==============================] - 0s 2ms/step - loss: 0.9012 - accuracy: 0.5975 - val_loss: 0.9410 - val_accuracy: 0.5500\n",
      "Epoch 15/105\n",
      "25/25 [==============================] - 0s 2ms/step - loss: 0.8382 - accuracy: 0.6281 - val_loss: 0.8765 - val_accuracy: 0.5925\n",
      "Epoch 16/105\n",
      "25/25 [==============================] - 0s 2ms/step - loss: 0.7779 - accuracy: 0.6544 - val_loss: 0.8143 - val_accuracy: 0.6250\n",
      "Epoch 17/105\n",
      "25/25 [==============================] - 0s 2ms/step - loss: 0.7210 - accuracy: 0.6925 - val_loss: 0.7564 - val_accuracy: 0.6625\n",
      "Epoch 18/105\n",
      "25/25 [==============================] - 0s 2ms/step - loss: 0.6712 - accuracy: 0.7169 - val_loss: 0.7043 - val_accuracy: 0.6925\n",
      "Epoch 19/105\n",
      "25/25 [==============================] - 0s 2ms/step - loss: 0.6255 - accuracy: 0.7462 - val_loss: 0.6572 - val_accuracy: 0.7100\n",
      "Epoch 20/105\n",
      "25/25 [==============================] - 0s 2ms/step - loss: 0.5849 - accuracy: 0.7669 - val_loss: 0.6154 - val_accuracy: 0.7500\n",
      "Epoch 21/105\n",
      "25/25 [==============================] - 0s 2ms/step - loss: 0.5482 - accuracy: 0.7881 - val_loss: 0.5778 - val_accuracy: 0.7675\n",
      "Epoch 22/105\n",
      "25/25 [==============================] - 0s 2ms/step - loss: 0.5151 - accuracy: 0.8169 - val_loss: 0.5426 - val_accuracy: 0.8025\n",
      "Epoch 23/105\n",
      "25/25 [==============================] - 0s 2ms/step - loss: 0.4858 - accuracy: 0.8338 - val_loss: 0.5121 - val_accuracy: 0.8150\n",
      "Epoch 24/105\n",
      "25/25 [==============================] - 0s 2ms/step - loss: 0.4587 - accuracy: 0.8431 - val_loss: 0.4845 - val_accuracy: 0.8300\n",
      "Epoch 25/105\n",
      "25/25 [==============================] - 0s 2ms/step - loss: 0.4337 - accuracy: 0.8562 - val_loss: 0.4603 - val_accuracy: 0.8375\n",
      "Epoch 26/105\n",
      "25/25 [==============================] - 0s 2ms/step - loss: 0.4107 - accuracy: 0.8681 - val_loss: 0.4368 - val_accuracy: 0.8400\n",
      "Epoch 27/105\n",
      "25/25 [==============================] - 0s 2ms/step - loss: 0.3902 - accuracy: 0.8769 - val_loss: 0.4174 - val_accuracy: 0.8475\n",
      "Epoch 28/105\n",
      "25/25 [==============================] - 0s 2ms/step - loss: 0.3714 - accuracy: 0.8813 - val_loss: 0.3985 - val_accuracy: 0.8600\n",
      "Epoch 29/105\n",
      "25/25 [==============================] - 0s 2ms/step - loss: 0.3538 - accuracy: 0.8888 - val_loss: 0.3811 - val_accuracy: 0.8675\n",
      "Epoch 30/105\n",
      "25/25 [==============================] - 0s 2ms/step - loss: 0.3387 - accuracy: 0.8950 - val_loss: 0.3638 - val_accuracy: 0.8775\n",
      "Epoch 31/105\n",
      "25/25 [==============================] - 0s 3ms/step - loss: 0.3245 - accuracy: 0.8950 - val_loss: 0.3517 - val_accuracy: 0.8775\n",
      "Epoch 32/105\n",
      "25/25 [==============================] - 0s 2ms/step - loss: 0.3101 - accuracy: 0.9025 - val_loss: 0.3357 - val_accuracy: 0.8850\n",
      "Epoch 33/105\n",
      "25/25 [==============================] - 0s 2ms/step - loss: 0.2977 - accuracy: 0.9062 - val_loss: 0.3238 - val_accuracy: 0.8850\n",
      "Epoch 34/105\n",
      "25/25 [==============================] - 0s 2ms/step - loss: 0.2859 - accuracy: 0.9100 - val_loss: 0.3126 - val_accuracy: 0.8925\n",
      "Epoch 35/105\n",
      "25/25 [==============================] - 0s 2ms/step - loss: 0.2763 - accuracy: 0.9125 - val_loss: 0.3004 - val_accuracy: 0.9025\n",
      "Epoch 36/105\n",
      "25/25 [==============================] - 0s 2ms/step - loss: 0.2650 - accuracy: 0.9156 - val_loss: 0.2901 - val_accuracy: 0.8950\n",
      "Epoch 37/105\n",
      "25/25 [==============================] - 0s 2ms/step - loss: 0.2557 - accuracy: 0.9187 - val_loss: 0.2801 - val_accuracy: 0.9025\n",
      "Epoch 38/105\n",
      "25/25 [==============================] - 0s 2ms/step - loss: 0.2467 - accuracy: 0.9212 - val_loss: 0.2711 - val_accuracy: 0.9100\n",
      "Epoch 39/105\n",
      "25/25 [==============================] - 0s 2ms/step - loss: 0.2389 - accuracy: 0.9237 - val_loss: 0.2631 - val_accuracy: 0.9075\n",
      "Epoch 40/105\n",
      "25/25 [==============================] - 0s 2ms/step - loss: 0.2314 - accuracy: 0.9237 - val_loss: 0.2555 - val_accuracy: 0.9075\n",
      "Epoch 41/105\n",
      "25/25 [==============================] - 0s 2ms/step - loss: 0.2239 - accuracy: 0.9287 - val_loss: 0.2470 - val_accuracy: 0.9225\n",
      "Epoch 42/105\n",
      "25/25 [==============================] - 0s 2ms/step - loss: 0.2180 - accuracy: 0.9281 - val_loss: 0.2401 - val_accuracy: 0.9200\n",
      "Epoch 43/105\n",
      "25/25 [==============================] - 0s 2ms/step - loss: 0.2108 - accuracy: 0.9331 - val_loss: 0.2346 - val_accuracy: 0.9175\n",
      "Epoch 44/105\n",
      "25/25 [==============================] - 0s 2ms/step - loss: 0.2049 - accuracy: 0.9344 - val_loss: 0.2289 - val_accuracy: 0.9175\n",
      "Epoch 45/105\n",
      "25/25 [==============================] - 0s 2ms/step - loss: 0.1986 - accuracy: 0.9350 - val_loss: 0.2216 - val_accuracy: 0.9200\n",
      "Epoch 46/105\n",
      "25/25 [==============================] - 0s 2ms/step - loss: 0.1934 - accuracy: 0.9356 - val_loss: 0.2169 - val_accuracy: 0.9175\n",
      "Epoch 47/105\n",
      "25/25 [==============================] - 0s 2ms/step - loss: 0.1883 - accuracy: 0.9369 - val_loss: 0.2112 - val_accuracy: 0.9200\n",
      "Epoch 48/105\n",
      "25/25 [==============================] - 0s 2ms/step - loss: 0.1839 - accuracy: 0.9394 - val_loss: 0.2071 - val_accuracy: 0.9200\n",
      "Epoch 49/105\n",
      "25/25 [==============================] - 0s 2ms/step - loss: 0.1797 - accuracy: 0.9406 - val_loss: 0.2033 - val_accuracy: 0.9250\n",
      "Epoch 50/105\n",
      "25/25 [==============================] - 0s 2ms/step - loss: 0.1751 - accuracy: 0.9425 - val_loss: 0.1999 - val_accuracy: 0.9225\n",
      "Epoch 51/105\n",
      "25/25 [==============================] - 0s 2ms/step - loss: 0.1715 - accuracy: 0.9419 - val_loss: 0.1949 - val_accuracy: 0.9250\n",
      "Epoch 52/105\n",
      "25/25 [==============================] - 0s 2ms/step - loss: 0.1685 - accuracy: 0.9444 - val_loss: 0.1916 - val_accuracy: 0.9275\n",
      "Epoch 53/105\n",
      "25/25 [==============================] - 0s 2ms/step - loss: 0.1645 - accuracy: 0.9494 - val_loss: 0.1897 - val_accuracy: 0.9275\n",
      "Epoch 54/105\n",
      "25/25 [==============================] - 0s 2ms/step - loss: 0.1619 - accuracy: 0.9444 - val_loss: 0.1865 - val_accuracy: 0.9275\n",
      "Epoch 55/105\n",
      "25/25 [==============================] - 0s 2ms/step - loss: 0.1581 - accuracy: 0.9488 - val_loss: 0.1827 - val_accuracy: 0.9325\n",
      "Epoch 56/105\n",
      "25/25 [==============================] - 0s 2ms/step - loss: 0.1557 - accuracy: 0.9481 - val_loss: 0.1802 - val_accuracy: 0.9300\n",
      "Epoch 57/105\n",
      "25/25 [==============================] - 0s 2ms/step - loss: 0.1525 - accuracy: 0.9494 - val_loss: 0.1783 - val_accuracy: 0.9300\n",
      "Epoch 58/105\n",
      "25/25 [==============================] - 0s 2ms/step - loss: 0.1505 - accuracy: 0.9494 - val_loss: 0.1748 - val_accuracy: 0.9300\n",
      "Epoch 59/105\n",
      "25/25 [==============================] - 0s 2ms/step - loss: 0.1474 - accuracy: 0.9531 - val_loss: 0.1724 - val_accuracy: 0.9325\n",
      "Epoch 60/105\n",
      "25/25 [==============================] - 0s 2ms/step - loss: 0.1448 - accuracy: 0.9531 - val_loss: 0.1708 - val_accuracy: 0.9300\n",
      "Epoch 61/105\n",
      "25/25 [==============================] - 0s 2ms/step - loss: 0.1420 - accuracy: 0.9525 - val_loss: 0.1668 - val_accuracy: 0.9350\n",
      "Epoch 62/105\n",
      "25/25 [==============================] - 0s 2ms/step - loss: 0.1404 - accuracy: 0.9538 - val_loss: 0.1662 - val_accuracy: 0.9350\n",
      "Epoch 63/105\n",
      "25/25 [==============================] - 0s 2ms/step - loss: 0.1383 - accuracy: 0.9538 - val_loss: 0.1634 - val_accuracy: 0.9375\n",
      "Epoch 64/105\n",
      "25/25 [==============================] - 0s 2ms/step - loss: 0.1355 - accuracy: 0.9550 - val_loss: 0.1624 - val_accuracy: 0.9375\n",
      "Epoch 65/105\n",
      "25/25 [==============================] - 0s 2ms/step - loss: 0.1338 - accuracy: 0.9556 - val_loss: 0.1592 - val_accuracy: 0.9375\n",
      "Epoch 66/105\n",
      "25/25 [==============================] - 0s 2ms/step - loss: 0.1318 - accuracy: 0.9575 - val_loss: 0.1577 - val_accuracy: 0.9375\n",
      "Epoch 67/105\n",
      "25/25 [==============================] - 0s 2ms/step - loss: 0.1295 - accuracy: 0.9569 - val_loss: 0.1565 - val_accuracy: 0.9400\n",
      "Epoch 68/105\n",
      "25/25 [==============================] - 0s 2ms/step - loss: 0.1285 - accuracy: 0.9575 - val_loss: 0.1562 - val_accuracy: 0.9325\n",
      "Epoch 69/105\n",
      "25/25 [==============================] - 0s 2ms/step - loss: 0.1269 - accuracy: 0.9575 - val_loss: 0.1549 - val_accuracy: 0.9300\n",
      "Epoch 70/105\n",
      "25/25 [==============================] - 0s 2ms/step - loss: 0.1242 - accuracy: 0.9594 - val_loss: 0.1519 - val_accuracy: 0.9375\n",
      "Epoch 71/105\n",
      "25/25 [==============================] - 0s 2ms/step - loss: 0.1226 - accuracy: 0.9600 - val_loss: 0.1503 - val_accuracy: 0.9350\n",
      "Epoch 72/105\n",
      "25/25 [==============================] - 0s 2ms/step - loss: 0.1209 - accuracy: 0.9613 - val_loss: 0.1496 - val_accuracy: 0.9350\n",
      "Epoch 73/105\n",
      "25/25 [==============================] - 0s 2ms/step - loss: 0.1196 - accuracy: 0.9588 - val_loss: 0.1486 - val_accuracy: 0.9375\n",
      "Epoch 74/105\n",
      "25/25 [==============================] - 0s 2ms/step - loss: 0.1178 - accuracy: 0.9613 - val_loss: 0.1458 - val_accuracy: 0.9375\n",
      "Epoch 75/105\n",
      "25/25 [==============================] - 0s 2ms/step - loss: 0.1160 - accuracy: 0.9638 - val_loss: 0.1444 - val_accuracy: 0.9375\n",
      "Epoch 76/105\n",
      "25/25 [==============================] - 0s 2ms/step - loss: 0.1145 - accuracy: 0.9619 - val_loss: 0.1426 - val_accuracy: 0.9375\n",
      "Epoch 77/105\n",
      "25/25 [==============================] - 0s 2ms/step - loss: 0.1132 - accuracy: 0.9631 - val_loss: 0.1422 - val_accuracy: 0.9375\n",
      "Epoch 78/105\n",
      "25/25 [==============================] - 0s 2ms/step - loss: 0.1118 - accuracy: 0.9631 - val_loss: 0.1397 - val_accuracy: 0.9375\n",
      "Epoch 79/105\n",
      "25/25 [==============================] - 0s 2ms/step - loss: 0.1099 - accuracy: 0.9625 - val_loss: 0.1386 - val_accuracy: 0.9325\n",
      "Epoch 80/105\n",
      "25/25 [==============================] - 0s 2ms/step - loss: 0.1084 - accuracy: 0.9650 - val_loss: 0.1379 - val_accuracy: 0.9400\n",
      "Epoch 81/105\n",
      "25/25 [==============================] - 0s 2ms/step - loss: 0.1070 - accuracy: 0.9619 - val_loss: 0.1363 - val_accuracy: 0.9400\n",
      "Epoch 82/105\n",
      "25/25 [==============================] - 0s 2ms/step - loss: 0.1055 - accuracy: 0.9650 - val_loss: 0.1359 - val_accuracy: 0.9425\n",
      "Epoch 83/105\n",
      "25/25 [==============================] - 0s 2ms/step - loss: 0.1043 - accuracy: 0.9638 - val_loss: 0.1334 - val_accuracy: 0.9425\n",
      "Epoch 84/105\n",
      "25/25 [==============================] - 0s 2ms/step - loss: 0.1033 - accuracy: 0.9638 - val_loss: 0.1330 - val_accuracy: 0.9450\n",
      "Epoch 85/105\n",
      "25/25 [==============================] - 0s 2ms/step - loss: 0.1024 - accuracy: 0.9663 - val_loss: 0.1319 - val_accuracy: 0.9425\n",
      "Epoch 86/105\n",
      "25/25 [==============================] - 0s 2ms/step - loss: 0.1006 - accuracy: 0.9638 - val_loss: 0.1303 - val_accuracy: 0.9400\n",
      "Epoch 87/105\n",
      "25/25 [==============================] - 0s 2ms/step - loss: 0.1004 - accuracy: 0.9663 - val_loss: 0.1292 - val_accuracy: 0.9400\n",
      "Epoch 88/105\n",
      "25/25 [==============================] - 0s 2ms/step - loss: 0.0984 - accuracy: 0.9638 - val_loss: 0.1283 - val_accuracy: 0.9450\n",
      "Epoch 89/105\n",
      "25/25 [==============================] - 0s 2ms/step - loss: 0.0971 - accuracy: 0.9663 - val_loss: 0.1269 - val_accuracy: 0.9475\n",
      "Epoch 90/105\n",
      "25/25 [==============================] - 0s 2ms/step - loss: 0.0970 - accuracy: 0.9669 - val_loss: 0.1258 - val_accuracy: 0.9425\n",
      "Epoch 91/105\n",
      "25/25 [==============================] - 0s 2ms/step - loss: 0.0952 - accuracy: 0.9656 - val_loss: 0.1257 - val_accuracy: 0.9475\n",
      "Epoch 92/105\n",
      "25/25 [==============================] - 0s 3ms/step - loss: 0.0947 - accuracy: 0.9669 - val_loss: 0.1244 - val_accuracy: 0.9375\n",
      "Epoch 93/105\n",
      "25/25 [==============================] - 0s 2ms/step - loss: 0.0933 - accuracy: 0.9669 - val_loss: 0.1220 - val_accuracy: 0.9400\n",
      "Epoch 94/105\n",
      "25/25 [==============================] - 0s 2ms/step - loss: 0.0931 - accuracy: 0.9681 - val_loss: 0.1225 - val_accuracy: 0.9450\n",
      "Epoch 95/105\n",
      "25/25 [==============================] - 0s 2ms/step - loss: 0.0918 - accuracy: 0.9688 - val_loss: 0.1233 - val_accuracy: 0.9425\n",
      "Epoch 96/105\n",
      "25/25 [==============================] - 0s 2ms/step - loss: 0.0910 - accuracy: 0.9663 - val_loss: 0.1196 - val_accuracy: 0.9400\n",
      "Epoch 97/105\n",
      "25/25 [==============================] - 0s 2ms/step - loss: 0.0906 - accuracy: 0.9688 - val_loss: 0.1220 - val_accuracy: 0.9425\n",
      "Epoch 98/105\n",
      "25/25 [==============================] - 0s 2ms/step - loss: 0.0887 - accuracy: 0.9700 - val_loss: 0.1194 - val_accuracy: 0.9350\n",
      "Epoch 99/105\n",
      "25/25 [==============================] - 0s 2ms/step - loss: 0.0883 - accuracy: 0.9725 - val_loss: 0.1183 - val_accuracy: 0.9425\n",
      "Epoch 100/105\n",
      "25/25 [==============================] - 0s 2ms/step - loss: 0.0866 - accuracy: 0.9700 - val_loss: 0.1190 - val_accuracy: 0.9400\n",
      "Epoch 101/105\n",
      "25/25 [==============================] - 0s 2ms/step - loss: 0.0863 - accuracy: 0.9706 - val_loss: 0.1176 - val_accuracy: 0.9375\n",
      "Epoch 102/105\n",
      "25/25 [==============================] - 0s 2ms/step - loss: 0.0853 - accuracy: 0.9737 - val_loss: 0.1177 - val_accuracy: 0.9425\n",
      "Epoch 103/105\n",
      "25/25 [==============================] - 0s 2ms/step - loss: 0.0845 - accuracy: 0.9712 - val_loss: 0.1149 - val_accuracy: 0.9375\n",
      "Epoch 104/105\n",
      "25/25 [==============================] - 0s 2ms/step - loss: 0.0841 - accuracy: 0.9706 - val_loss: 0.1164 - val_accuracy: 0.9400\n",
      "Epoch 105/105\n",
      "25/25 [==============================] - 0s 2ms/step - loss: 0.0830 - accuracy: 0.9769 - val_loss: 0.1158 - val_accuracy: 0.9400\n"
     ]
    }
   ],
   "source": [
    "#Training neural network model\n",
    "history = model.fit(X_train,y_train,epochs=105,validation_data=(X_test,y_test),batch_size=64)"
   ]
  },
  {
   "cell_type": "code",
   "execution_count": null,
   "metadata": {
    "id": "qAOcIA9wDPhX",
    "outputId": "c5a27eb8-243c-480e-84b8-f7da06d9759b"
   },
   "outputs": [
    {
     "name": "stdout",
     "output_type": "stream",
     "text": [
      "13/13 [==============================] - 0s 833us/step\n"
     ]
    }
   ],
   "source": [
    "# Post-processing steps on the predicted and actual test labels\n",
    "y_pred = model.predict(X_test)\n",
    "\n",
    "#lets do the inverse one hot encoding\n",
    "pred = []\n",
    "for i in range(len(y_pred)):\n",
    "    pred.append(np.argmax(y_pred[i]))\n",
    "\n",
    "# also inverse encoding for y_test labels\n",
    "\n",
    "test = []\n",
    "for i in range(len(y_test)):\n",
    "    test.append(np.argmax(y_test[i]))"
   ]
  },
  {
   "cell_type": "markdown",
   "metadata": {
    "id": "9obiIF6YPsfA"
   },
   "source": [
    "Evaluation was performed on 13 batches, each containing one or more samples, and each evaluation step took around 833 microseconds."
   ]
  },
  {
   "cell_type": "code",
   "execution_count": null,
   "metadata": {
    "id": "aTZbmy9bDPhX",
    "outputId": "d15977ed-652a-483c-d3fc-90a95d55f0d7"
   },
   "outputs": [
    {
     "name": "stdout",
     "output_type": "stream",
     "text": [
      "Accuracy of Your Model is = 94.0\n"
     ]
    }
   ],
   "source": [
    "# accuracy of the model\n",
    "from sklearn.metrics import accuracy_score\n",
    "acc = accuracy_score(pred,test)\n",
    "print(\"Accuracy of Your Model is = \" + str(acc*100))"
   ]
  },
  {
   "cell_type": "code",
   "execution_count": null,
   "metadata": {
    "id": "8sCwP5YfDPhX",
    "outputId": "c4f96d2a-729f-4974-d581-169a33dd5557"
   },
   "outputs": [
    {
     "data": {
      "image/png": "[encoded data removed]",
      "text/plain": [
       "<Figure size 640x480 with 1 Axes>"
      ]
     },
     "metadata": {},
     "output_type": "display_data"
    }
   ],
   "source": [
    "#Visualizing the training progress of neural network model.\n",
    "plt.plot(history.history['accuracy'])\n",
    "plt.plot(history.history['val_accuracy'])\n",
    "plt.xlabel('Epochs')\n",
    "plt.ylabel('Accuracy')\n",
    "plt.legend(['Features','Price_Weight'],loc='upper left')\n",
    "plt.show()"
   ]
  },
  {
   "cell_type": "code",
   "execution_count": null,
   "metadata": {
    "id": "7RQSqyuQDPhX",
    "outputId": "deef2f99-5933-43e8-9aa6-72a3f71990f6",
    "scrolled": true
   },
   "outputs": [
    {
     "data": {
      "image/png": "[encoded data removed]",
      "text/plain": [
       "<Figure size 640x480 with 1 Axes>"
      ]
     },
     "metadata": {},
     "output_type": "display_data"
    }
   ],
   "source": [
    "plt.plot(history.history['loss'])\n",
    "plt.plot(history.history['val_loss'])\n",
    "plt.xlabel('Epochs')\n",
    "plt.ylabel('Loss')\n",
    "plt.legend(['Features','Price_Weight'],loc='upper left')\n",
    "plt.show()"
   ]
  },
  {
   "cell_type": "markdown",
   "metadata": {
    "id": "gXzpaRHXDPhX"
   },
   "source": [
    "# Model 2"
   ]
  },
  {
   "cell_type": "code",
   "execution_count": null,
   "metadata": {
    "id": "TjDHm7uhDPhX"
   },
   "outputs": [],
   "source": [
    "# Importing the necessary libraries and modules for creating a neural network using Keras\n",
    "import keras\n",
    "from keras.models import Sequential\n",
    "from keras.layers import *\n",
    "import matplotlib.pyplot as plt\n",
    "%matplotlib inline"
   ]
  },
  {
   "cell_type": "code",
   "execution_count": null,
   "metadata": {
    "id": "32Gsa-u3DPhd"
   },
   "outputs": [],
   "source": [
    "#Created a new instance of a Sequential model\n",
    "model_2 = Sequential()"
   ]
  },
  {
   "cell_type": "markdown",
   "metadata": {
    "id": "GntA1I0LgEMX"
   },
   "source": [
    "<h3>The model begins with an input layer consisting of 64 neurons, each employing the Rectified Linear Unit (ReLU) activation function. This layer processes data with 10 features. After each subsequent dense layer, a Batch Normalization layer is introduced to stabilize and speed up training. To prevent overfitting, a Dropout layer with a dropout rate of 0.2 follows the Batch Normalization layer."
   ]
  },
  {
   "cell_type": "code",
   "execution_count": null,
   "metadata": {
    "id": "PVHl5XtkDPhd"
   },
   "outputs": [],
   "source": [
    "model_2.add(Dense(64, activation='relu', input_dim=10))\n",
    "model_2.add(BatchNormalization())\n",
    "model_2.add(Dropout(0.2))\n",
    "\n",
    "model_2.add(Dense(48, activation='relu'))\n",
    "model_2.add(BatchNormalization())\n",
    "model_2.add(Dropout(0.2))\n",
    "\n",
    "model_2.add(Dense(32, activation='relu'))\n",
    "model_2.add(BatchNormalization())\n",
    "model_2.add(Dropout(0.2))\n",
    "\n",
    "model_2.add(Dense(24, activation='relu'))\n",
    "model_2.add(BatchNormalization())\n",
    "model_2.add(Dropout(0.2))\n",
    "\n",
    "model_2.add(Dense(16, activation='relu'))\n",
    "model_2.add(BatchNormalization())\n",
    "model_2.add(Dropout(0.2))\n",
    "\n",
    "model_2.add(Dense(8, activation='relu'))\n",
    "model_2.add(BatchNormalization())\n",
    "model_2.add(Dropout(0.2))\n",
    "\n",
    "model_2.add(Dense(4, activation='softmax'))"
   ]
  },
  {
   "cell_type": "code",
   "execution_count": null,
   "metadata": {
    "id": "9TQxPWtlDPhd",
    "outputId": "3460074d-ddd2-42ea-92cf-3b296ab0429b"
   },
   "outputs": [
    {
     "name": "stdout",
     "output_type": "stream",
     "text": [
      "Model: \"sequential_1\"\n",
      "_________________________________________________________________\n",
      " Layer (type)                Output Shape              Param #   \n",
      "=================================================================\n",
      " dense_3 (Dense)             (None, 64)                704       \n",
      "                                                                 \n",
      " batch_normalization (BatchN  (None, 64)               256       \n",
      " ormalization)                                                   \n",
      "                                                                 \n",
      " dropout (Dropout)           (None, 64)                0         \n",
      "                                                                 \n",
      " dense_4 (Dense)             (None, 48)                3120      \n",
      "                                                                 \n",
      " batch_normalization_1 (Batc  (None, 48)               192       \n",
      " hNormalization)                                                 \n",
      "                                                                 \n",
      " dropout_1 (Dropout)         (None, 48)                0         \n",
      "                                                                 \n",
      " dense_5 (Dense)             (None, 32)                1568      \n",
      "                                                                 \n",
      " batch_normalization_2 (Batc  (None, 32)               128       \n",
      " hNormalization)                                                 \n",
      "                                                                 \n",
      " dropout_2 (Dropout)         (None, 32)                0         \n",
      "                                                                 \n",
      " dense_6 (Dense)             (None, 24)                792       \n",
      "                                                                 \n",
      " batch_normalization_3 (Batc  (None, 24)               96        \n",
      " hNormalization)                                                 \n",
      "                                                                 \n",
      " dropout_3 (Dropout)         (None, 24)                0         \n",
      "                                                                 \n",
      " dense_7 (Dense)             (None, 16)                400       \n",
      "                                                                 \n",
      " batch_normalization_4 (Batc  (None, 16)               64        \n",
      " hNormalization)                                                 \n",
      "                                                                 \n",
      " dropout_4 (Dropout)         (None, 16)                0         \n",
      "                                                                 \n",
      " dense_8 (Dense)             (None, 8)                 136       \n",
      "                                                                 \n",
      " batch_normalization_5 (Batc  (None, 8)                32        \n",
      " hNormalization)                                                 \n",
      "                                                                 \n",
      " dropout_5 (Dropout)         (None, 8)                 0         \n",
      "                                                                 \n",
      " dense_9 (Dense)             (None, 4)                 36        \n",
      "                                                                 \n",
      "=================================================================\n",
      "Total params: 7,524\n",
      "Trainable params: 7,140\n",
      "Non-trainable params: 384\n",
      "_________________________________________________________________\n"
     ]
    }
   ],
   "source": [
    "model_2.summary()"
   ]
  },
  {
   "cell_type": "code",
   "execution_count": null,
   "metadata": {
    "id": "k_KGUkTPDPhd"
   },
   "outputs": [],
   "source": [
    "# Compiling model 2\n",
    "model_2.compile(loss='categorical_crossentropy',optimizer='Adam',metrics=['accuracy'])"
   ]
  },
  {
   "cell_type": "code",
   "execution_count": null,
   "metadata": {
    "id": "Rs84a98XDPhe",
    "outputId": "982479e4-f574-48cf-b478-edca07c3e8a0"
   },
   "outputs": [
    {
     "name": "stdout",
     "output_type": "stream",
     "text": [
      "Epoch 1/105\n",
      "25/25 [==============================] - 2s 12ms/step - loss: 1.8613 - accuracy: 0.2719 - val_loss: 1.3820 - val_accuracy: 0.2425\n",
      "Epoch 2/105\n",
      "25/25 [==============================] - 0s 4ms/step - loss: 1.6902 - accuracy: 0.3019 - val_loss: 1.3702 - val_accuracy: 0.3500\n",
      "Epoch 3/105\n",
      "25/25 [==============================] - 0s 3ms/step - loss: 1.5689 - accuracy: 0.3219 - val_loss: 1.3488 - val_accuracy: 0.3600\n",
      "Epoch 4/105\n",
      "25/25 [==============================] - 0s 3ms/step - loss: 1.4737 - accuracy: 0.3462 - val_loss: 1.3187 - val_accuracy: 0.4200\n",
      "Epoch 5/105\n",
      "25/25 [==============================] - 0s 3ms/step - loss: 1.3651 - accuracy: 0.3850 - val_loss: 1.2719 - val_accuracy: 0.4725\n",
      "Epoch 6/105\n",
      "25/25 [==============================] - 0s 3ms/step - loss: 1.3254 - accuracy: 0.4038 - val_loss: 1.2173 - val_accuracy: 0.5025\n",
      "Epoch 7/105\n",
      "25/25 [==============================] - 0s 4ms/step - loss: 1.2397 - accuracy: 0.4263 - val_loss: 1.1317 - val_accuracy: 0.5575\n",
      "Epoch 8/105\n",
      "25/25 [==============================] - 0s 4ms/step - loss: 1.1739 - accuracy: 0.4731 - val_loss: 1.0504 - val_accuracy: 0.5925\n",
      "Epoch 9/105\n",
      "25/25 [==============================] - 0s 4ms/step - loss: 1.1028 - accuracy: 0.4988 - val_loss: 0.9639 - val_accuracy: 0.6300\n",
      "Epoch 10/105\n",
      "25/25 [==============================] - 0s 3ms/step - loss: 1.0758 - accuracy: 0.5244 - val_loss: 0.8738 - val_accuracy: 0.6625\n",
      "Epoch 11/105\n",
      "25/25 [==============================] - 0s 3ms/step - loss: 1.0262 - accuracy: 0.5362 - val_loss: 0.7917 - val_accuracy: 0.6900\n",
      "Epoch 12/105\n",
      "25/25 [==============================] - 0s 3ms/step - loss: 0.9393 - accuracy: 0.5944 - val_loss: 0.7250 - val_accuracy: 0.7025\n",
      "Epoch 13/105\n",
      "25/25 [==============================] - 0s 3ms/step - loss: 0.8942 - accuracy: 0.6219 - val_loss: 0.6639 - val_accuracy: 0.7200\n",
      "Epoch 14/105\n",
      "25/25 [==============================] - 0s 3ms/step - loss: 0.8426 - accuracy: 0.6250 - val_loss: 0.6133 - val_accuracy: 0.7425\n",
      "Epoch 15/105\n",
      "25/25 [==============================] - 0s 3ms/step - loss: 0.8298 - accuracy: 0.6381 - val_loss: 0.5752 - val_accuracy: 0.7550\n",
      "Epoch 16/105\n",
      "25/25 [==============================] - 0s 3ms/step - loss: 0.7645 - accuracy: 0.6712 - val_loss: 0.5398 - val_accuracy: 0.7825\n",
      "Epoch 17/105\n",
      "25/25 [==============================] - 0s 3ms/step - loss: 0.7406 - accuracy: 0.6931 - val_loss: 0.5126 - val_accuracy: 0.7925\n",
      "Epoch 18/105\n",
      "25/25 [==============================] - 0s 3ms/step - loss: 0.6969 - accuracy: 0.7019 - val_loss: 0.4943 - val_accuracy: 0.7950\n",
      "Epoch 19/105\n",
      "25/25 [==============================] - 0s 3ms/step - loss: 0.7041 - accuracy: 0.7081 - val_loss: 0.4731 - val_accuracy: 0.8175\n",
      "Epoch 20/105\n",
      "25/25 [==============================] - 0s 3ms/step - loss: 0.6523 - accuracy: 0.7275 - val_loss: 0.4540 - val_accuracy: 0.8075\n",
      "Epoch 21/105\n",
      "25/25 [==============================] - 0s 3ms/step - loss: 0.6616 - accuracy: 0.7200 - val_loss: 0.4368 - val_accuracy: 0.8225\n",
      "Epoch 22/105\n",
      "25/25 [==============================] - 0s 3ms/step - loss: 0.6547 - accuracy: 0.7312 - val_loss: 0.4172 - val_accuracy: 0.8400\n",
      "Epoch 23/105\n",
      "25/25 [==============================] - 0s 3ms/step - loss: 0.6457 - accuracy: 0.7219 - val_loss: 0.4054 - val_accuracy: 0.8475\n",
      "Epoch 24/105\n",
      "25/25 [==============================] - 0s 3ms/step - loss: 0.6100 - accuracy: 0.7513 - val_loss: 0.4021 - val_accuracy: 0.8475\n",
      "Epoch 25/105\n",
      "25/25 [==============================] - 0s 3ms/step - loss: 0.5836 - accuracy: 0.7594 - val_loss: 0.3823 - val_accuracy: 0.8600\n",
      "Epoch 26/105\n",
      "25/25 [==============================] - 0s 3ms/step - loss: 0.5953 - accuracy: 0.7581 - val_loss: 0.3645 - val_accuracy: 0.8700\n",
      "Epoch 27/105\n",
      "25/25 [==============================] - 0s 3ms/step - loss: 0.5763 - accuracy: 0.7669 - val_loss: 0.3579 - val_accuracy: 0.8650\n",
      "Epoch 28/105\n",
      "25/25 [==============================] - 0s 3ms/step - loss: 0.5629 - accuracy: 0.7713 - val_loss: 0.3508 - val_accuracy: 0.8750\n",
      "Epoch 29/105\n",
      "25/25 [==============================] - 0s 3ms/step - loss: 0.5609 - accuracy: 0.7719 - val_loss: 0.3451 - val_accuracy: 0.8750\n",
      "Epoch 30/105\n",
      "25/25 [==============================] - 0s 3ms/step - loss: 0.5195 - accuracy: 0.7950 - val_loss: 0.3370 - val_accuracy: 0.8825\n",
      "Epoch 31/105\n",
      "25/25 [==============================] - 0s 3ms/step - loss: 0.5642 - accuracy: 0.7644 - val_loss: 0.3298 - val_accuracy: 0.8750\n",
      "Epoch 32/105\n",
      "25/25 [==============================] - 0s 3ms/step - loss: 0.5275 - accuracy: 0.7881 - val_loss: 0.3257 - val_accuracy: 0.8775\n",
      "Epoch 33/105\n",
      "25/25 [==============================] - 0s 3ms/step - loss: 0.5404 - accuracy: 0.7825 - val_loss: 0.3172 - val_accuracy: 0.8825\n",
      "Epoch 34/105\n",
      "25/25 [==============================] - 0s 3ms/step - loss: 0.5083 - accuracy: 0.7912 - val_loss: 0.3121 - val_accuracy: 0.8875\n",
      "Epoch 35/105\n",
      "25/25 [==============================] - 0s 4ms/step - loss: 0.4834 - accuracy: 0.8094 - val_loss: 0.2899 - val_accuracy: 0.8950\n",
      "Epoch 36/105\n",
      "25/25 [==============================] - 0s 3ms/step - loss: 0.4732 - accuracy: 0.8125 - val_loss: 0.2783 - val_accuracy: 0.8950\n",
      "Epoch 37/105\n",
      "25/25 [==============================] - 0s 3ms/step - loss: 0.5007 - accuracy: 0.8019 - val_loss: 0.2717 - val_accuracy: 0.8900\n",
      "Epoch 38/105\n",
      "25/25 [==============================] - 0s 3ms/step - loss: 0.4959 - accuracy: 0.8138 - val_loss: 0.2614 - val_accuracy: 0.9000\n",
      "Epoch 39/105\n",
      "25/25 [==============================] - 0s 3ms/step - loss: 0.5102 - accuracy: 0.7975 - val_loss: 0.2618 - val_accuracy: 0.9075\n",
      "Epoch 40/105\n",
      "25/25 [==============================] - 0s 3ms/step - loss: 0.4692 - accuracy: 0.8169 - val_loss: 0.2585 - val_accuracy: 0.9025\n",
      "Epoch 41/105\n",
      "25/25 [==============================] - 0s 3ms/step - loss: 0.4938 - accuracy: 0.8037 - val_loss: 0.2540 - val_accuracy: 0.9075\n",
      "Epoch 42/105\n",
      "25/25 [==============================] - 0s 3ms/step - loss: 0.4469 - accuracy: 0.8231 - val_loss: 0.2456 - val_accuracy: 0.9075\n",
      "Epoch 43/105\n",
      "25/25 [==============================] - 0s 3ms/step - loss: 0.4568 - accuracy: 0.8194 - val_loss: 0.2460 - val_accuracy: 0.9000\n",
      "Epoch 44/105\n",
      "25/25 [==============================] - 0s 3ms/step - loss: 0.4767 - accuracy: 0.8056 - val_loss: 0.2444 - val_accuracy: 0.9100\n",
      "Epoch 45/105\n",
      "25/25 [==============================] - 0s 3ms/step - loss: 0.4622 - accuracy: 0.8163 - val_loss: 0.2464 - val_accuracy: 0.9075\n",
      "Epoch 46/105\n",
      "25/25 [==============================] - 0s 3ms/step - loss: 0.4639 - accuracy: 0.8169 - val_loss: 0.2394 - val_accuracy: 0.9025\n",
      "Epoch 47/105\n",
      "25/25 [==============================] - 0s 3ms/step - loss: 0.4373 - accuracy: 0.8369 - val_loss: 0.2376 - val_accuracy: 0.9075\n",
      "Epoch 48/105\n",
      "25/25 [==============================] - 0s 3ms/step - loss: 0.4322 - accuracy: 0.8300 - val_loss: 0.2236 - val_accuracy: 0.9125\n",
      "Epoch 49/105\n",
      "25/25 [==============================] - 0s 3ms/step - loss: 0.4307 - accuracy: 0.8306 - val_loss: 0.2206 - val_accuracy: 0.9200\n",
      "Epoch 50/105\n",
      "25/25 [==============================] - 0s 3ms/step - loss: 0.4165 - accuracy: 0.8400 - val_loss: 0.2181 - val_accuracy: 0.9225\n",
      "Epoch 51/105\n",
      "25/25 [==============================] - 0s 3ms/step - loss: 0.4078 - accuracy: 0.8413 - val_loss: 0.2182 - val_accuracy: 0.9175\n",
      "Epoch 52/105\n",
      "25/25 [==============================] - 0s 3ms/step - loss: 0.4155 - accuracy: 0.8450 - val_loss: 0.2197 - val_accuracy: 0.9150\n",
      "Epoch 53/105\n",
      "25/25 [==============================] - 0s 3ms/step - loss: 0.3855 - accuracy: 0.8525 - val_loss: 0.2022 - val_accuracy: 0.9300\n",
      "Epoch 54/105\n",
      "25/25 [==============================] - 0s 3ms/step - loss: 0.4341 - accuracy: 0.8344 - val_loss: 0.2044 - val_accuracy: 0.9300\n",
      "Epoch 55/105\n",
      "25/25 [==============================] - 0s 3ms/step - loss: 0.4352 - accuracy: 0.8319 - val_loss: 0.1933 - val_accuracy: 0.9400\n",
      "Epoch 56/105\n",
      "25/25 [==============================] - 0s 3ms/step - loss: 0.3857 - accuracy: 0.8531 - val_loss: 0.1987 - val_accuracy: 0.9325\n",
      "Epoch 57/105\n",
      "25/25 [==============================] - 0s 3ms/step - loss: 0.4045 - accuracy: 0.8500 - val_loss: 0.1975 - val_accuracy: 0.9325\n",
      "Epoch 58/105\n",
      "25/25 [==============================] - 0s 3ms/step - loss: 0.3616 - accuracy: 0.8712 - val_loss: 0.1933 - val_accuracy: 0.9325\n",
      "Epoch 59/105\n",
      "25/25 [==============================] - 0s 3ms/step - loss: 0.4075 - accuracy: 0.8550 - val_loss: 0.1901 - val_accuracy: 0.9325\n",
      "Epoch 60/105\n",
      "25/25 [==============================] - 0s 3ms/step - loss: 0.4138 - accuracy: 0.8363 - val_loss: 0.1842 - val_accuracy: 0.9300\n",
      "Epoch 61/105\n",
      "25/25 [==============================] - 0s 3ms/step - loss: 0.4440 - accuracy: 0.8350 - val_loss: 0.1854 - val_accuracy: 0.9300\n",
      "Epoch 62/105\n",
      "25/25 [==============================] - 0s 3ms/step - loss: 0.4194 - accuracy: 0.8481 - val_loss: 0.1912 - val_accuracy: 0.9325\n",
      "Epoch 63/105\n",
      "25/25 [==============================] - 0s 3ms/step - loss: 0.3552 - accuracy: 0.8662 - val_loss: 0.1914 - val_accuracy: 0.9350\n",
      "Epoch 64/105\n",
      "25/25 [==============================] - 0s 3ms/step - loss: 0.4093 - accuracy: 0.8406 - val_loss: 0.1868 - val_accuracy: 0.9300\n",
      "Epoch 65/105\n",
      "25/25 [==============================] - 0s 3ms/step - loss: 0.4147 - accuracy: 0.8444 - val_loss: 0.1891 - val_accuracy: 0.9225\n",
      "Epoch 66/105\n",
      "25/25 [==============================] - 0s 3ms/step - loss: 0.3724 - accuracy: 0.8631 - val_loss: 0.1750 - val_accuracy: 0.9525\n",
      "Epoch 67/105\n",
      "25/25 [==============================] - 0s 3ms/step - loss: 0.4156 - accuracy: 0.8425 - val_loss: 0.1764 - val_accuracy: 0.9450\n",
      "Epoch 68/105\n",
      "25/25 [==============================] - 0s 3ms/step - loss: 0.3696 - accuracy: 0.8550 - val_loss: 0.1749 - val_accuracy: 0.9450\n",
      "Epoch 69/105\n",
      "25/25 [==============================] - 0s 3ms/step - loss: 0.3761 - accuracy: 0.8712 - val_loss: 0.1703 - val_accuracy: 0.9425\n",
      "Epoch 70/105\n",
      "25/25 [==============================] - 0s 4ms/step - loss: 0.3560 - accuracy: 0.8675 - val_loss: 0.1745 - val_accuracy: 0.9400\n",
      "Epoch 71/105\n",
      "25/25 [==============================] - 0s 3ms/step - loss: 0.3716 - accuracy: 0.8612 - val_loss: 0.1692 - val_accuracy: 0.9375\n",
      "Epoch 72/105\n",
      "25/25 [==============================] - 0s 3ms/step - loss: 0.3372 - accuracy: 0.8838 - val_loss: 0.1724 - val_accuracy: 0.9450\n",
      "Epoch 73/105\n",
      "25/25 [==============================] - 0s 3ms/step - loss: 0.3913 - accuracy: 0.8525 - val_loss: 0.1642 - val_accuracy: 0.9400\n",
      "Epoch 74/105\n",
      "25/25 [==============================] - 0s 3ms/step - loss: 0.3738 - accuracy: 0.8619 - val_loss: 0.1678 - val_accuracy: 0.9450\n",
      "Epoch 75/105\n",
      "25/25 [==============================] - 0s 3ms/step - loss: 0.3568 - accuracy: 0.8650 - val_loss: 0.1734 - val_accuracy: 0.9350\n",
      "Epoch 76/105\n",
      "25/25 [==============================] - 0s 3ms/step - loss: 0.3544 - accuracy: 0.8806 - val_loss: 0.1589 - val_accuracy: 0.9550\n",
      "Epoch 77/105\n",
      "25/25 [==============================] - 0s 4ms/step - loss: 0.4093 - accuracy: 0.8600 - val_loss: 0.1650 - val_accuracy: 0.9475\n",
      "Epoch 78/105\n",
      "25/25 [==============================] - 0s 3ms/step - loss: 0.3669 - accuracy: 0.8644 - val_loss: 0.1714 - val_accuracy: 0.9350\n",
      "Epoch 79/105\n",
      "25/25 [==============================] - 0s 3ms/step - loss: 0.3146 - accuracy: 0.8850 - val_loss: 0.1674 - val_accuracy: 0.9450\n",
      "Epoch 80/105\n",
      "25/25 [==============================] - 0s 3ms/step - loss: 0.3549 - accuracy: 0.8625 - val_loss: 0.1632 - val_accuracy: 0.9525\n",
      "Epoch 81/105\n",
      "25/25 [==============================] - 0s 3ms/step - loss: 0.3460 - accuracy: 0.8719 - val_loss: 0.1755 - val_accuracy: 0.9350\n",
      "Epoch 82/105\n",
      "25/25 [==============================] - 0s 3ms/step - loss: 0.3902 - accuracy: 0.8537 - val_loss: 0.1673 - val_accuracy: 0.9400\n",
      "Epoch 83/105\n",
      "25/25 [==============================] - 0s 3ms/step - loss: 0.3695 - accuracy: 0.8562 - val_loss: 0.1681 - val_accuracy: 0.9375\n",
      "Epoch 84/105\n",
      "25/25 [==============================] - 0s 3ms/step - loss: 0.3267 - accuracy: 0.8869 - val_loss: 0.1639 - val_accuracy: 0.9450\n",
      "Epoch 85/105\n",
      "25/25 [==============================] - 0s 3ms/step - loss: 0.3554 - accuracy: 0.8669 - val_loss: 0.1558 - val_accuracy: 0.9375\n",
      "Epoch 86/105\n",
      "25/25 [==============================] - 0s 3ms/step - loss: 0.3653 - accuracy: 0.8681 - val_loss: 0.1585 - val_accuracy: 0.9425\n",
      "Epoch 87/105\n",
      "25/25 [==============================] - 0s 3ms/step - loss: 0.3689 - accuracy: 0.8669 - val_loss: 0.1528 - val_accuracy: 0.9475\n",
      "Epoch 88/105\n",
      "25/25 [==============================] - 0s 3ms/step - loss: 0.3172 - accuracy: 0.8869 - val_loss: 0.1670 - val_accuracy: 0.9325\n",
      "Epoch 89/105\n",
      "25/25 [==============================] - 0s 3ms/step - loss: 0.3440 - accuracy: 0.8800 - val_loss: 0.1548 - val_accuracy: 0.9425\n",
      "Epoch 90/105\n",
      "25/25 [==============================] - 0s 3ms/step - loss: 0.3731 - accuracy: 0.8706 - val_loss: 0.1674 - val_accuracy: 0.9350\n",
      "Epoch 91/105\n",
      "25/25 [==============================] - 0s 3ms/step - loss: 0.3271 - accuracy: 0.8825 - val_loss: 0.1631 - val_accuracy: 0.9400\n",
      "Epoch 92/105\n",
      "25/25 [==============================] - 0s 3ms/step - loss: 0.3133 - accuracy: 0.8950 - val_loss: 0.1470 - val_accuracy: 0.9525\n",
      "Epoch 93/105\n",
      "25/25 [==============================] - 0s 3ms/step - loss: 0.3971 - accuracy: 0.8637 - val_loss: 0.1718 - val_accuracy: 0.9375\n",
      "Epoch 94/105\n",
      "25/25 [==============================] - 0s 3ms/step - loss: 0.3118 - accuracy: 0.8831 - val_loss: 0.1588 - val_accuracy: 0.9425\n",
      "Epoch 95/105\n",
      "25/25 [==============================] - 0s 4ms/step - loss: 0.3197 - accuracy: 0.8894 - val_loss: 0.1411 - val_accuracy: 0.9500\n",
      "Epoch 96/105\n",
      "25/25 [==============================] - 0s 3ms/step - loss: 0.3618 - accuracy: 0.8763 - val_loss: 0.1389 - val_accuracy: 0.9550\n",
      "Epoch 97/105\n",
      "25/25 [==============================] - 0s 3ms/step - loss: 0.3403 - accuracy: 0.8788 - val_loss: 0.1432 - val_accuracy: 0.9450\n",
      "Epoch 98/105\n",
      "25/25 [==============================] - 0s 3ms/step - loss: 0.3305 - accuracy: 0.8850 - val_loss: 0.1560 - val_accuracy: 0.9350\n",
      "Epoch 99/105\n",
      "25/25 [==============================] - 0s 3ms/step - loss: 0.3045 - accuracy: 0.8969 - val_loss: 0.1431 - val_accuracy: 0.9425\n",
      "Epoch 100/105\n",
      "25/25 [==============================] - 0s 3ms/step - loss: 0.3217 - accuracy: 0.8931 - val_loss: 0.1413 - val_accuracy: 0.9375\n",
      "Epoch 101/105\n",
      "25/25 [==============================] - 0s 3ms/step - loss: 0.3109 - accuracy: 0.8925 - val_loss: 0.1356 - val_accuracy: 0.9600\n",
      "Epoch 102/105\n",
      "25/25 [==============================] - 0s 3ms/step - loss: 0.3280 - accuracy: 0.8775 - val_loss: 0.1344 - val_accuracy: 0.9600\n",
      "Epoch 103/105\n",
      "25/25 [==============================] - 0s 3ms/step - loss: 0.2628 - accuracy: 0.9069 - val_loss: 0.1454 - val_accuracy: 0.9475\n",
      "Epoch 104/105\n",
      "25/25 [==============================] - 0s 3ms/step - loss: 0.2930 - accuracy: 0.8969 - val_loss: 0.1338 - val_accuracy: 0.9550\n",
      "Epoch 105/105\n",
      "25/25 [==============================] - 0s 3ms/step - loss: 0.2972 - accuracy: 0.9000 - val_loss: 0.1251 - val_accuracy: 0.9500\n"
     ]
    }
   ],
   "source": [
    "# Training model 2 neural network\n",
    "history = model_2.fit(X_train,y_train,epochs=105,validation_data=(X_test,y_test),batch_size=64)"
   ]
  },
  {
   "cell_type": "code",
   "execution_count": null,
   "metadata": {
    "id": "fNoQWFBqDPhe",
    "outputId": "216b4845-d107-4ddb-cc09-d7fda9810679"
   },
   "outputs": [
    {
     "name": "stdout",
     "output_type": "stream",
     "text": [
      "13/13 [==============================] - 0s 1ms/step\n"
     ]
    }
   ],
   "source": [
    "# Post-processing steps on the predicted and actual test labels\n",
    "y_pred = model_2.predict(X_test)\n",
    "\n",
    "#lets do the inverse one hot encoding\n",
    "pred = []\n",
    "for i in range(len(y_pred)):\n",
    "    pred.append(np.argmax(y_pred[i]))\n",
    "\n",
    "# also inverse encoding for y_test labels\n",
    "\n",
    "test = []\n",
    "for i in range(len(y_test)):\n",
    "    test.append(np.argmax(y_test[i]))"
   ]
  },
  {
   "cell_type": "code",
   "execution_count": null,
   "metadata": {
    "id": "R74oWzGLDPhe",
    "outputId": "cee0956e-6095-4b3a-d3f3-40a11757ebff"
   },
   "outputs": [
    {
     "name": "stdout",
     "output_type": "stream",
     "text": [
      "Accuracy of Your Model is = 95.0\n"
     ]
    }
   ],
   "source": [
    "# accuracy of the model\n",
    "from sklearn.metrics import accuracy_score\n",
    "acc = accuracy_score(pred,test)\n",
    "print(\"Accuracy of Your Model is = \" + str(acc*100))"
   ]
  },
  {
   "cell_type": "code",
   "execution_count": null,
   "metadata": {
    "id": "-f74oqqdDPhe",
    "outputId": "805abf69-8378-4eb4-e945-95d9bcd0a307"
   },
   "outputs": [
    {
     "data": {
      "image/png": "[encoded data removed]",
      "text/plain": [
       "<Figure size 640x480 with 1 Axes>"
      ]
     },
     "metadata": {},
     "output_type": "display_data"
    }
   ],
   "source": [
    "plt.plot(history.history['accuracy'])\n",
    "plt.plot(history.history['val_accuracy'])\n",
    "plt.xlabel('Epochs')\n",
    "plt.ylabel('Accuracy')\n",
    "plt.legend(['Features','Price_Weight'],loc='upper left')\n",
    "plt.show()"
   ]
  },
  {
   "cell_type": "code",
   "execution_count": null,
   "metadata": {
    "id": "xOLoc7nxDPhe",
    "outputId": "10e54b46-e866-45cb-c987-4a0cc78c4c2a"
   },
   "outputs": [
    {
     "data": {
      "image/png": "[encoded data removed]",
      "text/plain": [
       "<Figure size 640x480 with 1 Axes>"
      ]
     },
     "metadata": {},
     "output_type": "display_data"
    }
   ],
   "source": [
    "plt.plot(history.history['loss'])\n",
    "plt.plot(history.history['val_loss'])\n",
    "plt.xlabel('Epochs')\n",
    "plt.ylabel('Loss')\n",
    "plt.legend(['Features','Price_Weight'],loc='upper left')\n",
    "plt.show()"
   ]
  },
  {
   "cell_type": "markdown",
   "metadata": {
    "id": "0Z6NTunADPhf"
   },
   "source": [
    "# Model 3"
   ]
  },
  {
   "cell_type": "markdown",
   "metadata": {
    "id": "L87m7nU_gLmW"
   },
   "source": [
    "<h3>The model begins with a dense layer comprising 16 neurons and employs the ReLU activation function, facilitating the extraction of complex patterns from the input data. A dropout layer with a rate of 0.2 is introduced after this to mitigate overfitting by randomly deactivating 20% of the neurons during training. The subsequent layers continue this pattern with dense layers of 12 and 8 neurons, each followed by ReLU activation and dropout layers. The model incorporates batch normalization after the third dense layer, promoting more stable and efficient training by normalizing the activations. Finally, the output layer consists of 4 neurons using the softmax activation function, suitable for multi-class classification tasks."
   ]
  },
  {
   "cell_type": "code",
   "execution_count": null,
   "metadata": {
    "id": "o6oDQ4sVDPhf"
   },
   "outputs": [],
   "source": [
    "# Defining a new neural network architecture\n",
    "model_3 = Sequential()\n",
    "model_3.add(Dense(16, activation='relu', input_dim=10))\n",
    "model_3.add(Dropout(0.2))\n",
    "model_3.add(Dense(12, activation='relu'))\n",
    "model_3.add(Dropout(0.2))\n",
    "model_3.add(Dense(8, activation='relu'))\n",
    "model_3.add(BatchNormalization())\n",
    "model_3.add(Dense(4, activation='softmax'))"
   ]
  },
  {
   "cell_type": "code",
   "execution_count": null,
   "metadata": {
    "id": "xxPB49WEDPhf",
    "outputId": "43e89782-dca6-487d-adf9-1aaf67316456"
   },
   "outputs": [
    {
     "name": "stdout",
     "output_type": "stream",
     "text": [
      "Model: \"sequential_2\"\n",
      "_________________________________________________________________\n",
      " Layer (type)                Output Shape              Param #   \n",
      "=================================================================\n",
      " dense_10 (Dense)            (None, 16)                176       \n",
      "                                                                 \n",
      " dropout_6 (Dropout)         (None, 16)                0         \n",
      "                                                                 \n",
      " dense_11 (Dense)            (None, 12)                204       \n",
      "                                                                 \n",
      " dropout_7 (Dropout)         (None, 12)                0         \n",
      "                                                                 \n",
      " dense_12 (Dense)            (None, 8)                 104       \n",
      "                                                                 \n",
      " batch_normalization_6 (Batc  (None, 8)                32        \n",
      " hNormalization)                                                 \n",
      "                                                                 \n",
      " dense_13 (Dense)            (None, 4)                 36        \n",
      "                                                                 \n",
      "=================================================================\n",
      "Total params: 552\n",
      "Trainable params: 536\n",
      "Non-trainable params: 16\n",
      "_________________________________________________________________\n"
     ]
    }
   ],
   "source": [
    "model_3.summary()"
   ]
  },
  {
   "cell_type": "code",
   "execution_count": null,
   "metadata": {
    "id": "vx7LWq3nDPhf"
   },
   "outputs": [],
   "source": [
    "model_3.compile(loss='categorical_crossentropy',optimizer='Adam',metrics=['accuracy'])"
   ]
  },
  {
   "cell_type": "code",
   "execution_count": null,
   "metadata": {
    "id": "6hsKDFDTDPhf",
    "outputId": "7ec990fd-22f2-4e9a-f96e-f2f204054a42"
   },
   "outputs": [
    {
     "name": "stdout",
     "output_type": "stream",
     "text": [
      "Epoch 1/105\n",
      "25/25 [==============================] - 1s 8ms/step - loss: 1.6650 - accuracy: 0.2612 - val_loss: 1.3716 - val_accuracy: 0.3025\n",
      "Epoch 2/105\n",
      "25/25 [==============================] - 0s 3ms/step - loss: 1.5303 - accuracy: 0.3075 - val_loss: 1.3511 - val_accuracy: 0.3475\n",
      "Epoch 3/105\n",
      "25/25 [==============================] - 0s 2ms/step - loss: 1.4027 - accuracy: 0.3325 - val_loss: 1.3272 - val_accuracy: 0.3725\n",
      "Epoch 4/105\n",
      "25/25 [==============================] - 0s 2ms/step - loss: 1.3374 - accuracy: 0.3537 - val_loss: 1.3001 - val_accuracy: 0.4250\n",
      "Epoch 5/105\n",
      "25/25 [==============================] - 0s 2ms/step - loss: 1.2656 - accuracy: 0.3913 - val_loss: 1.2700 - val_accuracy: 0.4625\n",
      "Epoch 6/105\n",
      "25/25 [==============================] - 0s 2ms/step - loss: 1.2195 - accuracy: 0.4456 - val_loss: 1.2306 - val_accuracy: 0.4850\n",
      "Epoch 7/105\n",
      "25/25 [==============================] - 0s 3ms/step - loss: 1.1653 - accuracy: 0.4613 - val_loss: 1.1796 - val_accuracy: 0.5400\n",
      "Epoch 8/105\n",
      "25/25 [==============================] - 0s 3ms/step - loss: 1.1240 - accuracy: 0.4725 - val_loss: 1.1219 - val_accuracy: 0.5925\n",
      "Epoch 9/105\n",
      "25/25 [==============================] - 0s 2ms/step - loss: 1.0535 - accuracy: 0.5144 - val_loss: 1.0547 - val_accuracy: 0.6125\n",
      "Epoch 10/105\n",
      "25/25 [==============================] - 0s 2ms/step - loss: 1.0228 - accuracy: 0.5387 - val_loss: 0.9857 - val_accuracy: 0.6550\n",
      "Epoch 11/105\n",
      "25/25 [==============================] - 0s 3ms/step - loss: 0.9848 - accuracy: 0.5587 - val_loss: 0.9196 - val_accuracy: 0.6475\n",
      "Epoch 12/105\n",
      "25/25 [==============================] - 0s 3ms/step - loss: 0.9096 - accuracy: 0.5856 - val_loss: 0.8582 - val_accuracy: 0.6625\n",
      "Epoch 13/105\n",
      "25/25 [==============================] - 0s 2ms/step - loss: 0.8776 - accuracy: 0.6006 - val_loss: 0.8052 - val_accuracy: 0.6850\n",
      "Epoch 14/105\n",
      "25/25 [==============================] - 0s 3ms/step - loss: 0.8504 - accuracy: 0.6156 - val_loss: 0.7589 - val_accuracy: 0.7175\n",
      "Epoch 15/105\n",
      "25/25 [==============================] - 0s 3ms/step - loss: 0.8356 - accuracy: 0.6187 - val_loss: 0.7194 - val_accuracy: 0.7375\n",
      "Epoch 16/105\n",
      "25/25 [==============================] - 0s 3ms/step - loss: 0.7907 - accuracy: 0.6425 - val_loss: 0.6852 - val_accuracy: 0.7625\n",
      "Epoch 17/105\n",
      "25/25 [==============================] - 0s 3ms/step - loss: 0.7841 - accuracy: 0.6425 - val_loss: 0.6525 - val_accuracy: 0.7850\n",
      "Epoch 18/105\n",
      "25/25 [==============================] - 0s 2ms/step - loss: 0.7410 - accuracy: 0.6719 - val_loss: 0.6228 - val_accuracy: 0.8125\n",
      "Epoch 19/105\n",
      "25/25 [==============================] - 0s 3ms/step - loss: 0.7221 - accuracy: 0.6931 - val_loss: 0.6013 - val_accuracy: 0.8150\n",
      "Epoch 20/105\n",
      "25/25 [==============================] - 0s 3ms/step - loss: 0.6947 - accuracy: 0.6944 - val_loss: 0.5780 - val_accuracy: 0.8450\n",
      "Epoch 21/105\n",
      "25/25 [==============================] - 0s 2ms/step - loss: 0.6806 - accuracy: 0.7025 - val_loss: 0.5606 - val_accuracy: 0.8375\n",
      "Epoch 22/105\n",
      "25/25 [==============================] - 0s 2ms/step - loss: 0.6673 - accuracy: 0.7031 - val_loss: 0.5378 - val_accuracy: 0.8525\n",
      "Epoch 23/105\n",
      "25/25 [==============================] - 0s 2ms/step - loss: 0.6376 - accuracy: 0.7325 - val_loss: 0.5209 - val_accuracy: 0.8600\n",
      "Epoch 24/105\n",
      "25/25 [==============================] - 0s 2ms/step - loss: 0.6227 - accuracy: 0.7412 - val_loss: 0.4956 - val_accuracy: 0.8850\n",
      "Epoch 25/105\n",
      "25/25 [==============================] - 0s 2ms/step - loss: 0.6198 - accuracy: 0.7431 - val_loss: 0.4786 - val_accuracy: 0.8900\n",
      "Epoch 26/105\n",
      "25/25 [==============================] - 0s 3ms/step - loss: 0.5878 - accuracy: 0.7731 - val_loss: 0.4645 - val_accuracy: 0.8925\n",
      "Epoch 27/105\n",
      "25/25 [==============================] - 0s 2ms/step - loss: 0.5902 - accuracy: 0.7531 - val_loss: 0.4457 - val_accuracy: 0.9050\n",
      "Epoch 28/105\n",
      "25/25 [==============================] - 0s 3ms/step - loss: 0.5740 - accuracy: 0.7569 - val_loss: 0.4327 - val_accuracy: 0.9075\n",
      "Epoch 29/105\n",
      "25/25 [==============================] - 0s 3ms/step - loss: 0.5524 - accuracy: 0.7763 - val_loss: 0.4199 - val_accuracy: 0.9100\n",
      "Epoch 30/105\n",
      "25/25 [==============================] - 0s 2ms/step - loss: 0.5380 - accuracy: 0.7825 - val_loss: 0.4030 - val_accuracy: 0.9025\n",
      "Epoch 31/105\n",
      "25/25 [==============================] - 0s 3ms/step - loss: 0.5187 - accuracy: 0.7987 - val_loss: 0.3901 - val_accuracy: 0.9000\n",
      "Epoch 32/105\n",
      "25/25 [==============================] - 0s 2ms/step - loss: 0.5112 - accuracy: 0.7962 - val_loss: 0.3741 - val_accuracy: 0.9100\n",
      "Epoch 33/105\n",
      "25/25 [==============================] - 0s 2ms/step - loss: 0.5310 - accuracy: 0.7894 - val_loss: 0.3667 - val_accuracy: 0.9125\n",
      "Epoch 34/105\n",
      "25/25 [==============================] - 0s 3ms/step - loss: 0.5037 - accuracy: 0.7944 - val_loss: 0.3577 - val_accuracy: 0.9075\n",
      "Epoch 35/105\n",
      "25/25 [==============================] - 0s 2ms/step - loss: 0.4768 - accuracy: 0.8031 - val_loss: 0.3498 - val_accuracy: 0.9075\n",
      "Epoch 36/105\n",
      "25/25 [==============================] - 0s 2ms/step - loss: 0.4776 - accuracy: 0.8019 - val_loss: 0.3429 - val_accuracy: 0.9075\n",
      "Epoch 37/105\n",
      "25/25 [==============================] - 0s 2ms/step - loss: 0.4455 - accuracy: 0.8256 - val_loss: 0.3323 - val_accuracy: 0.9075\n",
      "Epoch 38/105\n",
      "25/25 [==============================] - 0s 2ms/step - loss: 0.4552 - accuracy: 0.8181 - val_loss: 0.3210 - val_accuracy: 0.9200\n",
      "Epoch 39/105\n",
      "25/25 [==============================] - 0s 2ms/step - loss: 0.4564 - accuracy: 0.8150 - val_loss: 0.3166 - val_accuracy: 0.9225\n",
      "Epoch 40/105\n",
      "25/25 [==============================] - 0s 2ms/step - loss: 0.4607 - accuracy: 0.8144 - val_loss: 0.3157 - val_accuracy: 0.9125\n",
      "Epoch 41/105\n",
      "25/25 [==============================] - 0s 3ms/step - loss: 0.4279 - accuracy: 0.8275 - val_loss: 0.3054 - val_accuracy: 0.9175\n",
      "Epoch 42/105\n",
      "25/25 [==============================] - 0s 2ms/step - loss: 0.4227 - accuracy: 0.8256 - val_loss: 0.3034 - val_accuracy: 0.9200\n",
      "Epoch 43/105\n",
      "25/25 [==============================] - 0s 2ms/step - loss: 0.4151 - accuracy: 0.8288 - val_loss: 0.3029 - val_accuracy: 0.9125\n",
      "Epoch 44/105\n",
      "25/25 [==============================] - 0s 2ms/step - loss: 0.4006 - accuracy: 0.8413 - val_loss: 0.2985 - val_accuracy: 0.9125\n",
      "Epoch 45/105\n",
      "25/25 [==============================] - 0s 2ms/step - loss: 0.4083 - accuracy: 0.8419 - val_loss: 0.2861 - val_accuracy: 0.9150\n",
      "Epoch 46/105\n",
      "25/25 [==============================] - 0s 2ms/step - loss: 0.3967 - accuracy: 0.8294 - val_loss: 0.2770 - val_accuracy: 0.9200\n",
      "Epoch 47/105\n",
      "25/25 [==============================] - 0s 2ms/step - loss: 0.3940 - accuracy: 0.8331 - val_loss: 0.2683 - val_accuracy: 0.9250\n",
      "Epoch 48/105\n",
      "25/25 [==============================] - 0s 2ms/step - loss: 0.3744 - accuracy: 0.8438 - val_loss: 0.2694 - val_accuracy: 0.9175\n",
      "Epoch 49/105\n",
      "25/25 [==============================] - 0s 2ms/step - loss: 0.3785 - accuracy: 0.8425 - val_loss: 0.2652 - val_accuracy: 0.9200\n",
      "Epoch 50/105\n",
      "25/25 [==============================] - 0s 2ms/step - loss: 0.3702 - accuracy: 0.8469 - val_loss: 0.2572 - val_accuracy: 0.9150\n",
      "Epoch 51/105\n",
      "25/25 [==============================] - 0s 2ms/step - loss: 0.3643 - accuracy: 0.8487 - val_loss: 0.2485 - val_accuracy: 0.9275\n",
      "Epoch 52/105\n",
      "25/25 [==============================] - 0s 2ms/step - loss: 0.3758 - accuracy: 0.8475 - val_loss: 0.2469 - val_accuracy: 0.9325\n",
      "Epoch 53/105\n",
      "25/25 [==============================] - 0s 2ms/step - loss: 0.3363 - accuracy: 0.8712 - val_loss: 0.2441 - val_accuracy: 0.9300\n",
      "Epoch 54/105\n",
      "25/25 [==============================] - 0s 2ms/step - loss: 0.3556 - accuracy: 0.8462 - val_loss: 0.2407 - val_accuracy: 0.9200\n",
      "Epoch 55/105\n",
      "25/25 [==============================] - 0s 2ms/step - loss: 0.3172 - accuracy: 0.8806 - val_loss: 0.2365 - val_accuracy: 0.9200\n",
      "Epoch 56/105\n",
      "25/25 [==============================] - 0s 3ms/step - loss: 0.3172 - accuracy: 0.8737 - val_loss: 0.2392 - val_accuracy: 0.9150\n",
      "Epoch 57/105\n",
      "25/25 [==============================] - 0s 3ms/step - loss: 0.3484 - accuracy: 0.8531 - val_loss: 0.2352 - val_accuracy: 0.9125\n",
      "Epoch 58/105\n",
      "25/25 [==============================] - 0s 3ms/step - loss: 0.3313 - accuracy: 0.8650 - val_loss: 0.2273 - val_accuracy: 0.9300\n",
      "Epoch 59/105\n",
      "25/25 [==============================] - 0s 2ms/step - loss: 0.3081 - accuracy: 0.8813 - val_loss: 0.2263 - val_accuracy: 0.9350\n",
      "Epoch 60/105\n",
      "25/25 [==============================] - 0s 2ms/step - loss: 0.3125 - accuracy: 0.8737 - val_loss: 0.2237 - val_accuracy: 0.9300\n",
      "Epoch 61/105\n",
      "25/25 [==============================] - 0s 2ms/step - loss: 0.2849 - accuracy: 0.8875 - val_loss: 0.2132 - val_accuracy: 0.9325\n",
      "Epoch 62/105\n",
      "25/25 [==============================] - 0s 3ms/step - loss: 0.3149 - accuracy: 0.8737 - val_loss: 0.2140 - val_accuracy: 0.9350\n",
      "Epoch 63/105\n",
      "25/25 [==============================] - 0s 3ms/step - loss: 0.3081 - accuracy: 0.8775 - val_loss: 0.2004 - val_accuracy: 0.9400\n",
      "Epoch 64/105\n",
      "25/25 [==============================] - 0s 3ms/step - loss: 0.2950 - accuracy: 0.8794 - val_loss: 0.1998 - val_accuracy: 0.9350\n",
      "Epoch 65/105\n",
      "25/25 [==============================] - 0s 3ms/step - loss: 0.2964 - accuracy: 0.8806 - val_loss: 0.2160 - val_accuracy: 0.9125\n",
      "Epoch 66/105\n",
      "25/25 [==============================] - 0s 3ms/step - loss: 0.2997 - accuracy: 0.8769 - val_loss: 0.2187 - val_accuracy: 0.9225\n",
      "Epoch 67/105\n",
      "25/25 [==============================] - 0s 2ms/step - loss: 0.3049 - accuracy: 0.8731 - val_loss: 0.2089 - val_accuracy: 0.9225\n",
      "Epoch 68/105\n",
      "25/25 [==============================] - 0s 2ms/step - loss: 0.2853 - accuracy: 0.8831 - val_loss: 0.2075 - val_accuracy: 0.9250\n",
      "Epoch 69/105\n",
      "25/25 [==============================] - 0s 2ms/step - loss: 0.2786 - accuracy: 0.8881 - val_loss: 0.2121 - val_accuracy: 0.9125\n",
      "Epoch 70/105\n",
      "25/25 [==============================] - 0s 2ms/step - loss: 0.2721 - accuracy: 0.8975 - val_loss: 0.2203 - val_accuracy: 0.9175\n",
      "Epoch 71/105\n",
      "25/25 [==============================] - 0s 2ms/step - loss: 0.2742 - accuracy: 0.8913 - val_loss: 0.1900 - val_accuracy: 0.9425\n",
      "Epoch 72/105\n",
      "25/25 [==============================] - 0s 2ms/step - loss: 0.2534 - accuracy: 0.8931 - val_loss: 0.1801 - val_accuracy: 0.9375\n",
      "Epoch 73/105\n",
      "25/25 [==============================] - 0s 2ms/step - loss: 0.2619 - accuracy: 0.8994 - val_loss: 0.1793 - val_accuracy: 0.9350\n",
      "Epoch 74/105\n",
      "25/25 [==============================] - 0s 2ms/step - loss: 0.2648 - accuracy: 0.8988 - val_loss: 0.2022 - val_accuracy: 0.9225\n",
      "Epoch 75/105\n",
      "25/25 [==============================] - 0s 2ms/step - loss: 0.2506 - accuracy: 0.9031 - val_loss: 0.2140 - val_accuracy: 0.9150\n",
      "Epoch 76/105\n",
      "25/25 [==============================] - 0s 2ms/step - loss: 0.2451 - accuracy: 0.9000 - val_loss: 0.1949 - val_accuracy: 0.9125\n",
      "Epoch 77/105\n",
      "25/25 [==============================] - 0s 2ms/step - loss: 0.2629 - accuracy: 0.9006 - val_loss: 0.1822 - val_accuracy: 0.9300\n",
      "Epoch 78/105\n",
      "25/25 [==============================] - 0s 2ms/step - loss: 0.2288 - accuracy: 0.9087 - val_loss: 0.1808 - val_accuracy: 0.9250\n",
      "Epoch 79/105\n",
      "25/25 [==============================] - 0s 2ms/step - loss: 0.2365 - accuracy: 0.9031 - val_loss: 0.1801 - val_accuracy: 0.9275\n",
      "Epoch 80/105\n",
      "25/25 [==============================] - 0s 2ms/step - loss: 0.2312 - accuracy: 0.9094 - val_loss: 0.1888 - val_accuracy: 0.9275\n",
      "Epoch 81/105\n",
      "25/25 [==============================] - 0s 2ms/step - loss: 0.2506 - accuracy: 0.9069 - val_loss: 0.1950 - val_accuracy: 0.9325\n",
      "Epoch 82/105\n",
      "25/25 [==============================] - 0s 2ms/step - loss: 0.2520 - accuracy: 0.8988 - val_loss: 0.1917 - val_accuracy: 0.9225\n",
      "Epoch 83/105\n",
      "25/25 [==============================] - 0s 2ms/step - loss: 0.2357 - accuracy: 0.9069 - val_loss: 0.1848 - val_accuracy: 0.9200\n",
      "Epoch 84/105\n",
      "25/25 [==============================] - 0s 2ms/step - loss: 0.2350 - accuracy: 0.9044 - val_loss: 0.1826 - val_accuracy: 0.9275\n",
      "Epoch 85/105\n",
      "25/25 [==============================] - 0s 3ms/step - loss: 0.2259 - accuracy: 0.9000 - val_loss: 0.1783 - val_accuracy: 0.9275\n",
      "Epoch 86/105\n",
      "25/25 [==============================] - 0s 2ms/step - loss: 0.2367 - accuracy: 0.9038 - val_loss: 0.1764 - val_accuracy: 0.9325\n",
      "Epoch 87/105\n",
      "25/25 [==============================] - 0s 2ms/step - loss: 0.2205 - accuracy: 0.9050 - val_loss: 0.1814 - val_accuracy: 0.9350\n",
      "Epoch 88/105\n",
      "25/25 [==============================] - 0s 2ms/step - loss: 0.2217 - accuracy: 0.9137 - val_loss: 0.1799 - val_accuracy: 0.9200\n",
      "Epoch 89/105\n",
      "25/25 [==============================] - 0s 2ms/step - loss: 0.2288 - accuracy: 0.8988 - val_loss: 0.1732 - val_accuracy: 0.9325\n",
      "Epoch 90/105\n",
      "25/25 [==============================] - 0s 2ms/step - loss: 0.2288 - accuracy: 0.9106 - val_loss: 0.1747 - val_accuracy: 0.9275\n",
      "Epoch 91/105\n",
      "25/25 [==============================] - 0s 2ms/step - loss: 0.2195 - accuracy: 0.9131 - val_loss: 0.1648 - val_accuracy: 0.9300\n",
      "Epoch 92/105\n",
      "25/25 [==============================] - 0s 2ms/step - loss: 0.2181 - accuracy: 0.9187 - val_loss: 0.1610 - val_accuracy: 0.9425\n",
      "Epoch 93/105\n",
      "25/25 [==============================] - 0s 2ms/step - loss: 0.2251 - accuracy: 0.9075 - val_loss: 0.1680 - val_accuracy: 0.9275\n",
      "Epoch 94/105\n",
      "25/25 [==============================] - 0s 2ms/step - loss: 0.2130 - accuracy: 0.9087 - val_loss: 0.1697 - val_accuracy: 0.9225\n",
      "Epoch 95/105\n",
      "25/25 [==============================] - 0s 2ms/step - loss: 0.2110 - accuracy: 0.9187 - val_loss: 0.1589 - val_accuracy: 0.9325\n",
      "Epoch 96/105\n",
      "25/25 [==============================] - 0s 2ms/step - loss: 0.2218 - accuracy: 0.9087 - val_loss: 0.1577 - val_accuracy: 0.9275\n",
      "Epoch 97/105\n",
      "25/25 [==============================] - 0s 3ms/step - loss: 0.1997 - accuracy: 0.9175 - val_loss: 0.1618 - val_accuracy: 0.9300\n",
      "Epoch 98/105\n",
      "25/25 [==============================] - 0s 3ms/step - loss: 0.2270 - accuracy: 0.9112 - val_loss: 0.1647 - val_accuracy: 0.9275\n",
      "Epoch 99/105\n",
      "25/25 [==============================] - 0s 2ms/step - loss: 0.1856 - accuracy: 0.9287 - val_loss: 0.1583 - val_accuracy: 0.9325\n",
      "Epoch 100/105\n",
      "25/25 [==============================] - 0s 2ms/step - loss: 0.1896 - accuracy: 0.9281 - val_loss: 0.1487 - val_accuracy: 0.9325\n",
      "Epoch 101/105\n",
      "25/25 [==============================] - 0s 2ms/step - loss: 0.1890 - accuracy: 0.9269 - val_loss: 0.1399 - val_accuracy: 0.9375\n",
      "Epoch 102/105\n",
      "25/25 [==============================] - 0s 2ms/step - loss: 0.2062 - accuracy: 0.9119 - val_loss: 0.1375 - val_accuracy: 0.9475\n",
      "Epoch 103/105\n",
      "25/25 [==============================] - 0s 2ms/step - loss: 0.1861 - accuracy: 0.9287 - val_loss: 0.1419 - val_accuracy: 0.9475\n",
      "Epoch 104/105\n",
      "25/25 [==============================] - 0s 2ms/step - loss: 0.1818 - accuracy: 0.9275 - val_loss: 0.1526 - val_accuracy: 0.9300\n",
      "Epoch 105/105\n",
      "25/25 [==============================] - 0s 2ms/step - loss: 0.2022 - accuracy: 0.9206 - val_loss: 0.1481 - val_accuracy: 0.9400\n"
     ]
    }
   ],
   "source": [
    "history = model_3.fit(X_train,y_train,epochs=105,validation_data=(X_test,y_test),batch_size=64)"
   ]
  },
  {
   "cell_type": "code",
   "execution_count": null,
   "metadata": {
    "id": "jnhJBIl5DPhf",
    "outputId": "dab46597-14b5-4efd-a708-eb7e7a30a007"
   },
   "outputs": [
    {
     "name": "stdout",
     "output_type": "stream",
     "text": [
      "13/13 [==============================] - 0s 914us/step\n"
     ]
    }
   ],
   "source": [
    "# Post-processing steps on the predicted and actual test labels\n",
    "y_pred = model_3.predict(X_test)\n",
    "\n",
    "#lets do the inverse one hot encoding\n",
    "pred = []\n",
    "for i in range(len(y_pred)):\n",
    "    pred.append(np.argmax(y_pred[i]))\n",
    "\n",
    "# also inverse encoding for y_test labels\n",
    "\n",
    "test = []\n",
    "for i in range(len(y_test)):\n",
    "    test.append(np.argmax(y_test[i]))"
   ]
  },
  {
   "cell_type": "code",
   "execution_count": null,
   "metadata": {
    "id": "2cXhQEe9DPhg",
    "outputId": "0bf2a2a1-b48c-42d9-ec04-50965fd90522"
   },
   "outputs": [
    {
     "name": "stdout",
     "output_type": "stream",
     "text": [
      "Accuracy of Your Model is = 94.0\n"
     ]
    }
   ],
   "source": [
    "# Accuracy of the model\n",
    "from sklearn.metrics import accuracy_score\n",
    "acc = accuracy_score(pred,test)\n",
    "print(\"Accuracy of Your Model is = \" + str(acc*100))"
   ]
  },
  {
   "cell_type": "code",
   "execution_count": null,
   "metadata": {
    "id": "QnSULa13DPhg",
    "outputId": "a10605a7-f845-4d35-b380-6d5769721a37"
   },
   "outputs": [
    {
     "data": {
      "image/png": "[encoded data removed]",
      "text/plain": [
       "<Figure size 640x480 with 1 Axes>"
      ]
     },
     "metadata": {},
     "output_type": "display_data"
    }
   ],
   "source": [
    "plt.plot(history.history['accuracy'])\n",
    "plt.plot(history.history['val_accuracy'])\n",
    "plt.xlabel('Epochs')\n",
    "plt.ylabel('Accuracy')\n",
    "plt.legend(['Features','Price_Weight'],loc='upper left')\n",
    "plt.show()"
   ]
  },
  {
   "cell_type": "code",
   "execution_count": null,
   "metadata": {
    "id": "rMDhzuuuDPhg",
    "outputId": "852d375a-c99f-4e72-c8ab-c3f8af95649c"
   },
   "outputs": [
    {
     "data": {
      "image/png": "[encoded data removed]",
      "text/plain": [
       "<Figure size 640x480 with 1 Axes>"
      ]
     },
     "metadata": {},
     "output_type": "display_data"
    }
   ],
   "source": [
    "# Creating a plot that visualizes the training loss and validation loss over epochs.\n",
    "plt.plot(history.history['loss'])\n",
    "plt.plot(history.history['val_loss'])\n",
    "plt.xlabel('Epochs')\n",
    "plt.ylabel('Loss')\n",
    "plt.legend(['Features','Price_Weight'],loc='upper left')\n",
    "plt.show()"
   ]
  },
  {
   "cell_type": "markdown",
   "metadata": {
    "id": "WjtfMzw9gRkH"
   },
   "source": [
    "<h3>Conclusion:\n",
    "Implemented 3 Models of ANN accordingly for our Mobile Price prediction project in which the model provided an accuracy of 95% and then the other two gave an accuracy of 94%.\n",
    "Model performance can be influenced by various factors including architecture, data preprocessing, hyperparameters, and the nature of the dataset itself. In this case, the second model might have found a good balance between complexity and regularization techniques like dropout and batch normalization, which helped prevent overfitting and improved its ability to generalize to new data.\n",
    "This, often highlights the fact that multiple architectures can yield similar results on a particular dataset. However, even subtle differences in performance might be significant depending on the specific problem we're tackling."
   ]
  }
 ],
 "metadata": {
  "colab": {
   "provenance": []
  },
  "kernelspec": {
   "display_name": "Python 3 (ipykernel)",
   "language": "python",
   "name": "python3"
  },
  "language_info": {
   "codemirror_mode": {
    "name": "ipython",
    "version": 3
   },
   "file_extension": ".py",
   "mimetype": "text/x-python",
   "name": "python",
   "nbconvert_exporter": "python",
   "pygments_lexer": "ipython3",
   "version": "3.9.13"
  }
 },
 "nbformat": 4,
 "nbformat_minor": 1
}
